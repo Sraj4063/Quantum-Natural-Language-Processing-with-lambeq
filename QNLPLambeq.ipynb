{
 "cells": [
  {
   "cell_type": "code",
   "execution_count": 1,
   "id": "fd624130-3ce5-4950-9d15-e5ff9bac9086",
   "metadata": {},
   "outputs": [
    {
     "name": "stderr",
     "output_type": "stream",
     "text": [
      "<frozen importlib._bootstrap>:219: RuntimeWarning: scipy._lib.messagestream.MessageStream size changed, may indicate binary incompatibility. Expected 56 from C header, got 64 from PyObject\n"
     ]
    }
   ],
   "source": [
    "import numpy as np\n",
    "\n",
    "# Importing standard Qiskit libraries\n",
    "from qiskit import QuantumCircuit, transpile, Aer, IBMQ\n",
    "from qiskit.tools.jupyter import *\n",
    "from qiskit.visualization import *\n",
    "from ibm_quantum_widgets import *\n",
    "from qiskit.providers.aer import QasmSimulator\n",
    "\n",
    "# Loading your IBM Quantum account(s)\n",
    "provider = IBMQ.load_account()"
   ]
  },
  {
   "cell_type": "code",
   "execution_count": 2,
   "id": "593b13cf-8a09-4bc3-8c53-b1036975bd1d",
   "metadata": {},
   "outputs": [
    {
     "name": "stdout",
     "output_type": "stream",
     "text": [
      "Requirement already satisfied: lambeq in /opt/conda/lib/python3.8/site-packages (0.2.6)\n",
      "Requirement already satisfied: tensornetwork in /opt/conda/lib/python3.8/site-packages (from lambeq) (0.4.6)\n",
      "Requirement already satisfied: torch>=1.10.1 in /opt/conda/lib/python3.8/site-packages (from lambeq) (1.11.0)\n",
      "Requirement already satisfied: discopy>=0.4.2 in /opt/conda/lib/python3.8/site-packages (from lambeq) (0.4.2)\n",
      "Requirement already satisfied: spacy>=3.0 in /opt/conda/lib/python3.8/site-packages (from lambeq) (3.3.1)\n",
      "Requirement already satisfied: transformers in /opt/conda/lib/python3.8/site-packages (from lambeq) (4.20.1)\n",
      "Requirement already satisfied: pytket>=0.19.2 in /opt/conda/lib/python3.8/site-packages (from lambeq) (1.5.0)\n",
      "Requirement already satisfied: pyyaml in /opt/conda/lib/python3.8/site-packages (from lambeq) (6.0)\n",
      "Requirement already satisfied: networkx>=2.4 in /opt/conda/lib/python3.8/site-packages (from discopy>=0.4.2->lambeq) (2.7.1)\n",
      "Requirement already satisfied: pillow>=6.2.1 in /opt/conda/lib/python3.8/site-packages (from discopy>=0.4.2->lambeq) (9.0.1)\n",
      "Requirement already satisfied: numpy>=1.18.1 in /opt/conda/lib/python3.8/site-packages (from discopy>=0.4.2->lambeq) (1.22.4)\n",
      "Requirement already satisfied: matplotlib>=3.1.2 in /opt/conda/lib/python3.8/site-packages (from discopy>=0.4.2->lambeq) (3.5.1)\n",
      "Requirement already satisfied: pyparsing>=2.2.1 in /opt/conda/lib/python3.8/site-packages (from matplotlib>=3.1.2->discopy>=0.4.2->lambeq) (3.0.7)\n",
      "Requirement already satisfied: kiwisolver>=1.0.1 in /opt/conda/lib/python3.8/site-packages (from matplotlib>=3.1.2->discopy>=0.4.2->lambeq) (1.4.2)\n",
      "Requirement already satisfied: python-dateutil>=2.7 in /opt/conda/lib/python3.8/site-packages (from matplotlib>=3.1.2->discopy>=0.4.2->lambeq) (2.8.2)\n",
      "Requirement already satisfied: packaging>=20.0 in /opt/conda/lib/python3.8/site-packages (from matplotlib>=3.1.2->discopy>=0.4.2->lambeq) (21.3)\n",
      "Requirement already satisfied: cycler>=0.10 in /opt/conda/lib/python3.8/site-packages (from matplotlib>=3.1.2->discopy>=0.4.2->lambeq) (0.11.0)\n",
      "Requirement already satisfied: fonttools>=4.22.0 in /opt/conda/lib/python3.8/site-packages (from matplotlib>=3.1.2->discopy>=0.4.2->lambeq) (4.31.2)\n",
      "Requirement already satisfied: six>=1.5 in /opt/conda/lib/python3.8/site-packages (from python-dateutil>=2.7->matplotlib>=3.1.2->discopy>=0.4.2->lambeq) (1.16.0)\n",
      "Requirement already satisfied: graphviz~=0.14 in /opt/conda/lib/python3.8/site-packages (from pytket>=0.19.2->lambeq) (0.20.1)\n",
      "Requirement already satisfied: lark-parser~=0.7 in /opt/conda/lib/python3.8/site-packages (from pytket>=0.19.2->lambeq) (0.12.0)\n",
      "Requirement already satisfied: scipy<2.0,>=1.7.2 in /opt/conda/lib/python3.8/site-packages (from pytket>=0.19.2->lambeq) (1.8.0)\n",
      "Requirement already satisfied: sympy~=1.6 in /opt/conda/lib/python3.8/site-packages (from pytket>=0.19.2->lambeq) (1.10.1)\n",
      "Requirement already satisfied: typing-extensions~=4.2 in /opt/conda/lib/python3.8/site-packages (from pytket>=0.19.2->lambeq) (4.3.0)\n",
      "Requirement already satisfied: types-pkg-resources in /opt/conda/lib/python3.8/site-packages (from pytket>=0.19.2->lambeq) (0.1.3)\n",
      "Requirement already satisfied: jinja2~=3.0 in /opt/conda/lib/python3.8/site-packages (from pytket>=0.19.2->lambeq) (3.0.3)\n",
      "Requirement already satisfied: MarkupSafe>=2.0 in /opt/conda/lib/python3.8/site-packages (from jinja2~=3.0->pytket>=0.19.2->lambeq) (2.1.1)\n",
      "Requirement already satisfied: catalogue<2.1.0,>=2.0.6 in /opt/conda/lib/python3.8/site-packages (from spacy>=3.0->lambeq) (2.0.8)\n",
      "Requirement already satisfied: srsly<3.0.0,>=2.4.3 in /opt/conda/lib/python3.8/site-packages (from spacy>=3.0->lambeq) (2.4.4)\n",
      "Requirement already satisfied: spacy-legacy<3.1.0,>=3.0.9 in /opt/conda/lib/python3.8/site-packages (from spacy>=3.0->lambeq) (3.0.9)\n",
      "Requirement already satisfied: murmurhash<1.1.0,>=0.28.0 in /opt/conda/lib/python3.8/site-packages (from spacy>=3.0->lambeq) (1.0.8)\n",
      "Requirement already satisfied: setuptools in /opt/conda/lib/python3.8/site-packages (from spacy>=3.0->lambeq) (61.2.0)\n",
      "Requirement already satisfied: blis<0.8.0,>=0.4.0 in /opt/conda/lib/python3.8/site-packages (from spacy>=3.0->lambeq) (0.7.8)\n",
      "Requirement already satisfied: thinc<8.1.0,>=8.0.14 in /opt/conda/lib/python3.8/site-packages (from spacy>=3.0->lambeq) (8.0.17)\n",
      "Requirement already satisfied: requests<3.0.0,>=2.13.0 in /opt/conda/lib/python3.8/site-packages (from spacy>=3.0->lambeq) (2.28.1)\n",
      "Requirement already satisfied: pydantic!=1.8,!=1.8.1,<1.9.0,>=1.7.4 in /opt/conda/lib/python3.8/site-packages (from spacy>=3.0->lambeq) (1.8.2)\n",
      "Requirement already satisfied: tqdm<5.0.0,>=4.38.0 in /opt/conda/lib/python3.8/site-packages (from spacy>=3.0->lambeq) (4.64.0)\n",
      "Requirement already satisfied: pathy>=0.3.5 in /opt/conda/lib/python3.8/site-packages (from spacy>=3.0->lambeq) (0.6.2)\n",
      "Requirement already satisfied: cymem<2.1.0,>=2.0.2 in /opt/conda/lib/python3.8/site-packages (from spacy>=3.0->lambeq) (2.0.6)\n",
      "Requirement already satisfied: typer<0.5.0,>=0.3.0 in /opt/conda/lib/python3.8/site-packages (from spacy>=3.0->lambeq) (0.4.2)\n",
      "Requirement already satisfied: preshed<3.1.0,>=3.0.2 in /opt/conda/lib/python3.8/site-packages (from spacy>=3.0->lambeq) (3.0.7)\n",
      "Requirement already satisfied: langcodes<4.0.0,>=3.2.0 in /opt/conda/lib/python3.8/site-packages (from spacy>=3.0->lambeq) (3.3.0)\n",
      "Requirement already satisfied: wasabi<1.1.0,>=0.9.1 in /opt/conda/lib/python3.8/site-packages (from spacy>=3.0->lambeq) (0.10.1)\n",
      "Requirement already satisfied: spacy-loggers<2.0.0,>=1.0.0 in /opt/conda/lib/python3.8/site-packages (from spacy>=3.0->lambeq) (1.0.3)\n",
      "Requirement already satisfied: smart-open<6.0.0,>=5.2.1 in /opt/conda/lib/python3.8/site-packages (from pathy>=0.3.5->spacy>=3.0->lambeq) (5.2.1)\n",
      "Requirement already satisfied: idna<4,>=2.5 in /opt/conda/lib/python3.8/site-packages (from requests<3.0.0,>=2.13.0->spacy>=3.0->lambeq) (3.3)\n",
      "Requirement already satisfied: certifi>=2017.4.17 in /opt/conda/lib/python3.8/site-packages (from requests<3.0.0,>=2.13.0->spacy>=3.0->lambeq) (2021.10.8)\n",
      "Requirement already satisfied: charset-normalizer<3,>=2 in /opt/conda/lib/python3.8/site-packages (from requests<3.0.0,>=2.13.0->spacy>=3.0->lambeq) (2.0.12)\n",
      "Requirement already satisfied: urllib3<1.27,>=1.21.1 in /opt/conda/lib/python3.8/site-packages (from requests<3.0.0,>=2.13.0->spacy>=3.0->lambeq) (1.26.11)\n",
      "Requirement already satisfied: mpmath>=0.19 in /opt/conda/lib/python3.8/site-packages (from sympy~=1.6->pytket>=0.19.2->lambeq) (1.2.1)\n",
      "Requirement already satisfied: click<9.0.0,>=7.1.1 in /opt/conda/lib/python3.8/site-packages (from typer<0.5.0,>=0.3.0->spacy>=3.0->lambeq) (8.1.3)\n",
      "Requirement already satisfied: h5py>=2.9.0 in /opt/conda/lib/python3.8/site-packages (from tensornetwork->lambeq) (3.6.0)\n",
      "Requirement already satisfied: opt-einsum>=2.3.0 in /opt/conda/lib/python3.8/site-packages (from tensornetwork->lambeq) (3.3.0)\n",
      "Requirement already satisfied: huggingface-hub<1.0,>=0.1.0 in /opt/conda/lib/python3.8/site-packages (from transformers->lambeq) (0.8.1)\n",
      "Requirement already satisfied: filelock in /opt/conda/lib/python3.8/site-packages (from transformers->lambeq) (3.7.1)\n",
      "Requirement already satisfied: tokenizers!=0.11.3,<0.13,>=0.11.1 in /opt/conda/lib/python3.8/site-packages (from transformers->lambeq) (0.12.1)\n",
      "Requirement already satisfied: regex!=2019.12.17 in /opt/conda/lib/python3.8/site-packages (from transformers->lambeq) (2022.7.25)\n",
      "Note: you may need to restart the kernel to use updated packages.\n"
     ]
    }
   ],
   "source": [
    "pip install lambeq"
   ]
  },
  {
   "cell_type": "code",
   "execution_count": 3,
   "id": "7c13480e-75ed-47c8-bc00-87f8249f8c0d",
   "metadata": {},
   "outputs": [
    {
     "name": "stdout",
     "output_type": "stream",
     "text": [
      "Requirement already satisfied: lambeq[extras] in /opt/conda/lib/python3.8/site-packages (0.2.6)\n",
      "Requirement already satisfied: torch>=1.10.1 in /opt/conda/lib/python3.8/site-packages (from lambeq[extras]) (1.11.0)\n",
      "Requirement already satisfied: tensornetwork in /opt/conda/lib/python3.8/site-packages (from lambeq[extras]) (0.4.6)\n",
      "Requirement already satisfied: spacy>=3.0 in /opt/conda/lib/python3.8/site-packages (from lambeq[extras]) (3.3.1)\n",
      "Requirement already satisfied: pyyaml in /opt/conda/lib/python3.8/site-packages (from lambeq[extras]) (6.0)\n",
      "Requirement already satisfied: transformers in /opt/conda/lib/python3.8/site-packages (from lambeq[extras]) (4.20.1)\n",
      "Requirement already satisfied: pytket>=0.19.2 in /opt/conda/lib/python3.8/site-packages (from lambeq[extras]) (1.5.0)\n",
      "Requirement already satisfied: discopy>=0.4.2 in /opt/conda/lib/python3.8/site-packages (from lambeq[extras]) (0.4.2)\n",
      "Requirement already satisfied: tqdm in /opt/conda/lib/python3.8/site-packages (from lambeq[extras]) (4.64.0)\n",
      "Requirement already satisfied: pytket-qiskit>=0.21.0 in /opt/conda/lib/python3.8/site-packages (from lambeq[extras]) (0.28.0)\n",
      "Requirement already satisfied: jax in /opt/conda/lib/python3.8/site-packages (from lambeq[extras]) (0.3.16)\n",
      "Requirement already satisfied: jaxlib in /opt/conda/lib/python3.8/site-packages (from lambeq[extras]) (0.3.15)\n",
      "Requirement already satisfied: tensorboard>=2.7.0 in /opt/conda/lib/python3.8/site-packages (from lambeq[extras]) (2.10.0)\n",
      "Requirement already satisfied: noisyopt in /opt/conda/lib/python3.8/site-packages (from lambeq[extras]) (0.2.2)\n",
      "Requirement already satisfied: networkx>=2.4 in /opt/conda/lib/python3.8/site-packages (from discopy>=0.4.2->lambeq[extras]) (2.7.1)\n",
      "Requirement already satisfied: numpy>=1.18.1 in /opt/conda/lib/python3.8/site-packages (from discopy>=0.4.2->lambeq[extras]) (1.22.4)\n",
      "Requirement already satisfied: pillow>=6.2.1 in /opt/conda/lib/python3.8/site-packages (from discopy>=0.4.2->lambeq[extras]) (9.0.1)\n",
      "Requirement already satisfied: matplotlib>=3.1.2 in /opt/conda/lib/python3.8/site-packages (from discopy>=0.4.2->lambeq[extras]) (3.5.1)\n",
      "Requirement already satisfied: python-dateutil>=2.7 in /opt/conda/lib/python3.8/site-packages (from matplotlib>=3.1.2->discopy>=0.4.2->lambeq[extras]) (2.8.2)\n",
      "Requirement already satisfied: fonttools>=4.22.0 in /opt/conda/lib/python3.8/site-packages (from matplotlib>=3.1.2->discopy>=0.4.2->lambeq[extras]) (4.31.2)\n",
      "Requirement already satisfied: cycler>=0.10 in /opt/conda/lib/python3.8/site-packages (from matplotlib>=3.1.2->discopy>=0.4.2->lambeq[extras]) (0.11.0)\n",
      "Requirement already satisfied: kiwisolver>=1.0.1 in /opt/conda/lib/python3.8/site-packages (from matplotlib>=3.1.2->discopy>=0.4.2->lambeq[extras]) (1.4.2)\n",
      "Requirement already satisfied: pyparsing>=2.2.1 in /opt/conda/lib/python3.8/site-packages (from matplotlib>=3.1.2->discopy>=0.4.2->lambeq[extras]) (3.0.7)\n",
      "Requirement already satisfied: packaging>=20.0 in /opt/conda/lib/python3.8/site-packages (from matplotlib>=3.1.2->discopy>=0.4.2->lambeq[extras]) (21.3)\n",
      "Requirement already satisfied: six>=1.5 in /opt/conda/lib/python3.8/site-packages (from python-dateutil>=2.7->matplotlib>=3.1.2->discopy>=0.4.2->lambeq[extras]) (1.16.0)\n",
      "Requirement already satisfied: scipy<2.0,>=1.7.2 in /opt/conda/lib/python3.8/site-packages (from pytket>=0.19.2->lambeq[extras]) (1.8.0)\n",
      "Requirement already satisfied: graphviz~=0.14 in /opt/conda/lib/python3.8/site-packages (from pytket>=0.19.2->lambeq[extras]) (0.20.1)\n",
      "Requirement already satisfied: types-pkg-resources in /opt/conda/lib/python3.8/site-packages (from pytket>=0.19.2->lambeq[extras]) (0.1.3)\n",
      "Requirement already satisfied: typing-extensions~=4.2 in /opt/conda/lib/python3.8/site-packages (from pytket>=0.19.2->lambeq[extras]) (4.3.0)\n",
      "Requirement already satisfied: lark-parser~=0.7 in /opt/conda/lib/python3.8/site-packages (from pytket>=0.19.2->lambeq[extras]) (0.12.0)\n",
      "Requirement already satisfied: jinja2~=3.0 in /opt/conda/lib/python3.8/site-packages (from pytket>=0.19.2->lambeq[extras]) (3.0.3)\n",
      "Requirement already satisfied: sympy~=1.6 in /opt/conda/lib/python3.8/site-packages (from pytket>=0.19.2->lambeq[extras]) (1.10.1)\n",
      "Requirement already satisfied: MarkupSafe>=2.0 in /opt/conda/lib/python3.8/site-packages (from jinja2~=3.0->pytket>=0.19.2->lambeq[extras]) (2.1.1)\n",
      "Requirement already satisfied: qiskit~=0.37.0 in /opt/conda/lib/python3.8/site-packages (from pytket-qiskit>=0.21.0->lambeq[extras]) (0.37.0)\n",
      "Requirement already satisfied: qiskit-ibmq-provider==0.19.2 in /opt/conda/lib/python3.8/site-packages (from qiskit~=0.37.0->pytket-qiskit>=0.21.0->lambeq[extras]) (0.19.2)\n",
      "Requirement already satisfied: qiskit-aer==0.10.4 in /opt/conda/lib/python3.8/site-packages (from qiskit~=0.37.0->pytket-qiskit>=0.21.0->lambeq[extras]) (0.10.4)\n",
      "Requirement already satisfied: qiskit-terra==0.21.0 in /opt/conda/lib/python3.8/site-packages (from qiskit~=0.37.0->pytket-qiskit>=0.21.0->lambeq[extras]) (0.21.0)\n",
      "Requirement already satisfied: requests-ntlm>=1.1.0 in /opt/conda/lib/python3.8/site-packages (from qiskit-ibmq-provider==0.19.2->qiskit~=0.37.0->pytket-qiskit>=0.21.0->lambeq[extras]) (1.1.0)\n",
      "Requirement already satisfied: urllib3>=1.21.1 in /opt/conda/lib/python3.8/site-packages (from qiskit-ibmq-provider==0.19.2->qiskit~=0.37.0->pytket-qiskit>=0.21.0->lambeq[extras]) (1.26.11)\n",
      "Requirement already satisfied: websockets>=10.0 in /opt/conda/lib/python3.8/site-packages (from qiskit-ibmq-provider==0.19.2->qiskit~=0.37.0->pytket-qiskit>=0.21.0->lambeq[extras]) (10.3)\n",
      "Requirement already satisfied: requests>=2.19 in /opt/conda/lib/python3.8/site-packages (from qiskit-ibmq-provider==0.19.2->qiskit~=0.37.0->pytket-qiskit>=0.21.0->lambeq[extras]) (2.28.1)\n",
      "Requirement already satisfied: websocket-client>=1.0.1 in /opt/conda/lib/python3.8/site-packages (from qiskit-ibmq-provider==0.19.2->qiskit~=0.37.0->pytket-qiskit>=0.21.0->lambeq[extras]) (1.3.2)\n",
      "Requirement already satisfied: tweedledum<2.0,>=1.1 in /opt/conda/lib/python3.8/site-packages (from qiskit-terra==0.21.0->qiskit~=0.37.0->pytket-qiskit>=0.21.0->lambeq[extras]) (1.1.1)\n",
      "Requirement already satisfied: symengine>=0.9 in /opt/conda/lib/python3.8/site-packages (from qiskit-terra==0.21.0->qiskit~=0.37.0->pytket-qiskit>=0.21.0->lambeq[extras]) (0.9.2)\n",
      "Requirement already satisfied: stevedore>=3.0.0 in /opt/conda/lib/python3.8/site-packages (from qiskit-terra==0.21.0->qiskit~=0.37.0->pytket-qiskit>=0.21.0->lambeq[extras]) (3.5.0)\n",
      "Requirement already satisfied: ply>=3.10 in /opt/conda/lib/python3.8/site-packages (from qiskit-terra==0.21.0->qiskit~=0.37.0->pytket-qiskit>=0.21.0->lambeq[extras]) (3.11)\n",
      "Requirement already satisfied: dill>=0.3 in /opt/conda/lib/python3.8/site-packages (from qiskit-terra==0.21.0->qiskit~=0.37.0->pytket-qiskit>=0.21.0->lambeq[extras]) (0.3.5.1)\n",
      "Requirement already satisfied: retworkx>=0.11.0 in /opt/conda/lib/python3.8/site-packages (from qiskit-terra==0.21.0->qiskit~=0.37.0->pytket-qiskit>=0.21.0->lambeq[extras]) (0.11.0)\n",
      "Requirement already satisfied: psutil>=5 in /opt/conda/lib/python3.8/site-packages (from qiskit-terra==0.21.0->qiskit~=0.37.0->pytket-qiskit>=0.21.0->lambeq[extras]) (5.9.0)\n",
      "Requirement already satisfied: idna<4,>=2.5 in /opt/conda/lib/python3.8/site-packages (from requests>=2.19->qiskit-ibmq-provider==0.19.2->qiskit~=0.37.0->pytket-qiskit>=0.21.0->lambeq[extras]) (3.3)\n",
      "Requirement already satisfied: charset-normalizer<3,>=2 in /opt/conda/lib/python3.8/site-packages (from requests>=2.19->qiskit-ibmq-provider==0.19.2->qiskit~=0.37.0->pytket-qiskit>=0.21.0->lambeq[extras]) (2.0.12)\n",
      "Requirement already satisfied: certifi>=2017.4.17 in /opt/conda/lib/python3.8/site-packages (from requests>=2.19->qiskit-ibmq-provider==0.19.2->qiskit~=0.37.0->pytket-qiskit>=0.21.0->lambeq[extras]) (2021.10.8)\n",
      "Requirement already satisfied: ntlm-auth>=1.0.2 in /opt/conda/lib/python3.8/site-packages (from requests-ntlm>=1.1.0->qiskit-ibmq-provider==0.19.2->qiskit~=0.37.0->pytket-qiskit>=0.21.0->lambeq[extras]) (1.5.0)\n",
      "Requirement already satisfied: cryptography>=1.3 in /opt/conda/lib/python3.8/site-packages (from requests-ntlm>=1.1.0->qiskit-ibmq-provider==0.19.2->qiskit~=0.37.0->pytket-qiskit>=0.21.0->lambeq[extras]) (36.0.2)\n",
      "Requirement already satisfied: cffi>=1.12 in /opt/conda/lib/python3.8/site-packages (from cryptography>=1.3->requests-ntlm>=1.1.0->qiskit-ibmq-provider==0.19.2->qiskit~=0.37.0->pytket-qiskit>=0.21.0->lambeq[extras]) (1.15.0)\n",
      "Requirement already satisfied: pycparser in /opt/conda/lib/python3.8/site-packages (from cffi>=1.12->cryptography>=1.3->requests-ntlm>=1.1.0->qiskit-ibmq-provider==0.19.2->qiskit~=0.37.0->pytket-qiskit>=0.21.0->lambeq[extras]) (2.21)\n",
      "Requirement already satisfied: setuptools in /opt/conda/lib/python3.8/site-packages (from spacy>=3.0->lambeq[extras]) (61.2.0)\n",
      "Requirement already satisfied: pydantic!=1.8,!=1.8.1,<1.9.0,>=1.7.4 in /opt/conda/lib/python3.8/site-packages (from spacy>=3.0->lambeq[extras]) (1.8.2)\n",
      "Requirement already satisfied: cymem<2.1.0,>=2.0.2 in /opt/conda/lib/python3.8/site-packages (from spacy>=3.0->lambeq[extras]) (2.0.6)\n",
      "Requirement already satisfied: blis<0.8.0,>=0.4.0 in /opt/conda/lib/python3.8/site-packages (from spacy>=3.0->lambeq[extras]) (0.7.8)\n",
      "Requirement already satisfied: preshed<3.1.0,>=3.0.2 in /opt/conda/lib/python3.8/site-packages (from spacy>=3.0->lambeq[extras]) (3.0.7)\n",
      "Requirement already satisfied: spacy-loggers<2.0.0,>=1.0.0 in /opt/conda/lib/python3.8/site-packages (from spacy>=3.0->lambeq[extras]) (1.0.3)\n",
      "Requirement already satisfied: thinc<8.1.0,>=8.0.14 in /opt/conda/lib/python3.8/site-packages (from spacy>=3.0->lambeq[extras]) (8.0.17)\n",
      "Requirement already satisfied: catalogue<2.1.0,>=2.0.6 in /opt/conda/lib/python3.8/site-packages (from spacy>=3.0->lambeq[extras]) (2.0.8)\n",
      "Requirement already satisfied: wasabi<1.1.0,>=0.9.1 in /opt/conda/lib/python3.8/site-packages (from spacy>=3.0->lambeq[extras]) (0.10.1)\n",
      "Requirement already satisfied: langcodes<4.0.0,>=3.2.0 in /opt/conda/lib/python3.8/site-packages (from spacy>=3.0->lambeq[extras]) (3.3.0)\n",
      "Requirement already satisfied: murmurhash<1.1.0,>=0.28.0 in /opt/conda/lib/python3.8/site-packages (from spacy>=3.0->lambeq[extras]) (1.0.8)\n",
      "Requirement already satisfied: typer<0.5.0,>=0.3.0 in /opt/conda/lib/python3.8/site-packages (from spacy>=3.0->lambeq[extras]) (0.4.2)\n",
      "Requirement already satisfied: srsly<3.0.0,>=2.4.3 in /opt/conda/lib/python3.8/site-packages (from spacy>=3.0->lambeq[extras]) (2.4.4)\n",
      "Requirement already satisfied: pathy>=0.3.5 in /opt/conda/lib/python3.8/site-packages (from spacy>=3.0->lambeq[extras]) (0.6.2)\n",
      "Requirement already satisfied: spacy-legacy<3.1.0,>=3.0.9 in /opt/conda/lib/python3.8/site-packages (from spacy>=3.0->lambeq[extras]) (3.0.9)\n",
      "Requirement already satisfied: smart-open<6.0.0,>=5.2.1 in /opt/conda/lib/python3.8/site-packages (from pathy>=0.3.5->spacy>=3.0->lambeq[extras]) (5.2.1)\n",
      "Requirement already satisfied: pbr!=2.1.0,>=2.0.0 in /opt/conda/lib/python3.8/site-packages (from stevedore>=3.0.0->qiskit-terra==0.21.0->qiskit~=0.37.0->pytket-qiskit>=0.21.0->lambeq[extras]) (5.8.1)\n",
      "Requirement already satisfied: mpmath>=0.19 in /opt/conda/lib/python3.8/site-packages (from sympy~=1.6->pytket>=0.19.2->lambeq[extras]) (1.2.1)\n",
      "Requirement already satisfied: wheel>=0.26 in /opt/conda/lib/python3.8/site-packages (from tensorboard>=2.7.0->lambeq[extras]) (0.37.1)\n",
      "Requirement already satisfied: grpcio>=1.24.3 in /opt/conda/lib/python3.8/site-packages (from tensorboard>=2.7.0->lambeq[extras]) (1.47.0)\n",
      "Requirement already satisfied: absl-py>=0.4 in /opt/conda/lib/python3.8/site-packages (from tensorboard>=2.7.0->lambeq[extras]) (1.2.0)\n",
      "Requirement already satisfied: werkzeug>=1.0.1 in /opt/conda/lib/python3.8/site-packages (from tensorboard>=2.7.0->lambeq[extras]) (2.2.2)\n",
      "Requirement already satisfied: google-auth<3,>=1.6.3 in /opt/conda/lib/python3.8/site-packages (from tensorboard>=2.7.0->lambeq[extras]) (2.10.0)\n",
      "Requirement already satisfied: google-auth-oauthlib<0.5,>=0.4.1 in /opt/conda/lib/python3.8/site-packages (from tensorboard>=2.7.0->lambeq[extras]) (0.4.6)\n",
      "Collecting protobuf<3.20,>=3.9.2\n",
      "  Using cached protobuf-3.19.4-cp38-cp38-manylinux_2_17_x86_64.manylinux2014_x86_64.whl (1.1 MB)\n",
      "Requirement already satisfied: tensorboard-plugin-wit>=1.6.0 in /opt/conda/lib/python3.8/site-packages (from tensorboard>=2.7.0->lambeq[extras]) (1.8.1)\n",
      "Requirement already satisfied: tensorboard-data-server<0.7.0,>=0.6.0 in /opt/conda/lib/python3.8/site-packages (from tensorboard>=2.7.0->lambeq[extras]) (0.6.1)\n",
      "Requirement already satisfied: markdown>=2.6.8 in /opt/conda/lib/python3.8/site-packages (from tensorboard>=2.7.0->lambeq[extras]) (3.4.1)\n",
      "Requirement already satisfied: rsa<5,>=3.1.4 in /opt/conda/lib/python3.8/site-packages (from google-auth<3,>=1.6.3->tensorboard>=2.7.0->lambeq[extras]) (4.9)\n",
      "Requirement already satisfied: pyasn1-modules>=0.2.1 in /opt/conda/lib/python3.8/site-packages (from google-auth<3,>=1.6.3->tensorboard>=2.7.0->lambeq[extras]) (0.2.8)\n",
      "Requirement already satisfied: cachetools<6.0,>=2.0.0 in /opt/conda/lib/python3.8/site-packages (from google-auth<3,>=1.6.3->tensorboard>=2.7.0->lambeq[extras]) (5.2.0)\n",
      "Requirement already satisfied: requests-oauthlib>=0.7.0 in /opt/conda/lib/python3.8/site-packages (from google-auth-oauthlib<0.5,>=0.4.1->tensorboard>=2.7.0->lambeq[extras]) (1.3.1)\n",
      "Requirement already satisfied: importlib-metadata>=4.4 in /opt/conda/lib/python3.8/site-packages (from markdown>=2.6.8->tensorboard>=2.7.0->lambeq[extras]) (4.11.4)\n",
      "Requirement already satisfied: zipp>=0.5 in /opt/conda/lib/python3.8/site-packages (from importlib-metadata>=4.4->markdown>=2.6.8->tensorboard>=2.7.0->lambeq[extras]) (3.7.0)\n",
      "Requirement already satisfied: pyasn1<0.5.0,>=0.4.6 in /opt/conda/lib/python3.8/site-packages (from pyasn1-modules>=0.2.1->google-auth<3,>=1.6.3->tensorboard>=2.7.0->lambeq[extras]) (0.4.8)\n",
      "Requirement already satisfied: oauthlib>=3.0.0 in /opt/conda/lib/python3.8/site-packages (from requests-oauthlib>=0.7.0->google-auth-oauthlib<0.5,>=0.4.1->tensorboard>=2.7.0->lambeq[extras]) (3.2.0)\n",
      "Requirement already satisfied: click<9.0.0,>=7.1.1 in /opt/conda/lib/python3.8/site-packages (from typer<0.5.0,>=0.3.0->spacy>=3.0->lambeq[extras]) (8.1.3)\n",
      "Requirement already satisfied: opt-einsum in /opt/conda/lib/python3.8/site-packages (from jax->lambeq[extras]) (3.3.0)\n",
      "Requirement already satisfied: etils[epath] in /opt/conda/lib/python3.8/site-packages (from jax->lambeq[extras]) (0.7.1)\n",
      "Requirement already satisfied: importlib_resources in /opt/conda/lib/python3.8/site-packages (from etils[epath]->jax->lambeq[extras]) (5.6.0)\n",
      "Requirement already satisfied: h5py>=2.9.0 in /opt/conda/lib/python3.8/site-packages (from tensornetwork->lambeq[extras]) (3.6.0)\n",
      "Requirement already satisfied: filelock in /opt/conda/lib/python3.8/site-packages (from transformers->lambeq[extras]) (3.7.1)\n",
      "Requirement already satisfied: tokenizers!=0.11.3,<0.13,>=0.11.1 in /opt/conda/lib/python3.8/site-packages (from transformers->lambeq[extras]) (0.12.1)\n",
      "Requirement already satisfied: regex!=2019.12.17 in /opt/conda/lib/python3.8/site-packages (from transformers->lambeq[extras]) (2022.7.25)\n",
      "Requirement already satisfied: huggingface-hub<1.0,>=0.1.0 in /opt/conda/lib/python3.8/site-packages (from transformers->lambeq[extras]) (0.8.1)\n",
      "Installing collected packages: protobuf\n",
      "  Attempting uninstall: protobuf\n",
      "    Found existing installation: protobuf 3.20.0\n",
      "    Uninstalling protobuf-3.20.0:\n",
      "      Successfully uninstalled protobuf-3.20.0\n",
      "\u001b[31mERROR: pip's dependency resolver does not currently take into account all the packages that are installed. This behaviour is the source of the following dependency conflicts.\n",
      "allennlp 2.10.0 requires protobuf==3.20.0, but you have protobuf 3.19.4 which is incompatible.\u001b[0m\n",
      "Successfully installed protobuf-3.19.4\n",
      "Note: you may need to restart the kernel to use updated packages.\n"
     ]
    }
   ],
   "source": [
    "pip install lambeq[extras]"
   ]
  },
  {
   "cell_type": "code",
   "execution_count": 4,
   "id": "2ef4830c-5320-4d48-bfa4-2a1c239b5b60",
   "metadata": {},
   "outputs": [
    {
     "name": "stdout",
     "output_type": "stream",
     "text": [
      "Requirement already satisfied: cython in /opt/conda/lib/python3.8/site-packages (0.29.28)\n",
      "Requirement already satisfied: numpy in /opt/conda/lib/python3.8/site-packages (1.22.4)\n",
      "Requirement already satisfied: depccg in /opt/conda/lib/python3.8/site-packages (2.0.3.2)\n",
      "Requirement already satisfied: allennlp in /opt/conda/lib/python3.8/site-packages (from depccg) (2.10.0)\n",
      "Requirement already satisfied: simplejson in /opt/conda/lib/python3.8/site-packages (from depccg) (3.17.6)\n",
      "Requirement already satisfied: allennlp-models in /opt/conda/lib/python3.8/site-packages (from depccg) (2.10.0)\n",
      "Requirement already satisfied: chainer>=2.0.0 in /opt/conda/lib/python3.8/site-packages (from depccg) (7.8.1)\n",
      "Requirement already satisfied: janome in /opt/conda/lib/python3.8/site-packages (from depccg) (0.4.2)\n",
      "Requirement already satisfied: pyyaml in /opt/conda/lib/python3.8/site-packages (from depccg) (6.0)\n",
      "Requirement already satisfied: nltk in /opt/conda/lib/python3.8/site-packages (from depccg) (3.7)\n",
      "Requirement already satisfied: googledrivedownloader in /opt/conda/lib/python3.8/site-packages (from depccg) (0.4)\n",
      "Requirement already satisfied: lxml in /opt/conda/lib/python3.8/site-packages (from depccg) (4.9.1)\n",
      "Requirement already satisfied: requests in /opt/conda/lib/python3.8/site-packages (from depccg) (2.28.1)\n",
      "Requirement already satisfied: six>=1.9.0 in /opt/conda/lib/python3.8/site-packages (from chainer>=2.0.0->depccg) (1.16.0)\n",
      "Requirement already satisfied: filelock in /opt/conda/lib/python3.8/site-packages (from chainer>=2.0.0->depccg) (3.7.1)\n",
      "Requirement already satisfied: setuptools in /opt/conda/lib/python3.8/site-packages (from chainer>=2.0.0->depccg) (61.2.0)\n",
      "Requirement already satisfied: protobuf>=3.0.0 in /opt/conda/lib/python3.8/site-packages (from chainer>=2.0.0->depccg) (3.19.4)\n",
      "Requirement already satisfied: typing-extensions in /opt/conda/lib/python3.8/site-packages (from chainer>=2.0.0->depccg) (4.3.0)\n",
      "Requirement already satisfied: sacremoses in /opt/conda/lib/python3.8/site-packages (from allennlp->depccg) (0.0.53)\n",
      "Requirement already satisfied: cached-path<1.2.0,>=1.1.3 in /opt/conda/lib/python3.8/site-packages (from allennlp->depccg) (1.1.5)\n",
      "Requirement already satisfied: tqdm>=4.62 in /opt/conda/lib/python3.8/site-packages (from allennlp->depccg) (4.64.0)\n",
      "Requirement already satisfied: spacy<3.4,>=2.1.0 in /opt/conda/lib/python3.8/site-packages (from allennlp->depccg) (3.3.1)\n",
      "Requirement already satisfied: transformers<4.21,>=4.1 in /opt/conda/lib/python3.8/site-packages (from allennlp->depccg) (4.20.1)\n",
      "Requirement already satisfied: dill>=0.3.4 in /opt/conda/lib/python3.8/site-packages (from allennlp->depccg) (0.3.5.1)\n",
      "Requirement already satisfied: base58>=2.1.1 in /opt/conda/lib/python3.8/site-packages (from allennlp->depccg) (2.1.1)\n",
      "Requirement already satisfied: termcolor==1.1.0 in /opt/conda/lib/python3.8/site-packages (from allennlp->depccg) (1.1.0)\n",
      "Requirement already satisfied: torch<1.12.0,>=1.10.0 in /opt/conda/lib/python3.8/site-packages (from allennlp->depccg) (1.11.0)\n",
      "Requirement already satisfied: lmdb>=1.2.1 in /opt/conda/lib/python3.8/site-packages (from allennlp->depccg) (1.3.0)\n",
      "Requirement already satisfied: more-itertools>=8.12.0 in /opt/conda/lib/python3.8/site-packages (from allennlp->depccg) (8.12.0)\n",
      "Requirement already satisfied: tensorboardX>=1.2 in /opt/conda/lib/python3.8/site-packages (from allennlp->depccg) (2.5.1)\n",
      "Requirement already satisfied: wandb<0.13.0,>=0.10.0 in /opt/conda/lib/python3.8/site-packages (from allennlp->depccg) (0.12.21)\n",
      "Requirement already satisfied: sentencepiece>=0.1.96 in /opt/conda/lib/python3.8/site-packages (from allennlp->depccg) (0.1.97)\n",
      "Requirement already satisfied: jsonnet>=0.10.0 in /opt/conda/lib/python3.8/site-packages (from allennlp->depccg) (0.18.0)\n",
      "Requirement already satisfied: rich==12.1 in /opt/conda/lib/python3.8/site-packages (from allennlp->depccg) (12.1.0)\n",
      "Requirement already satisfied: traitlets>5.1.1 in /opt/conda/lib/python3.8/site-packages (from allennlp->depccg) (5.3.0)\n",
      "Requirement already satisfied: fairscale==0.4.6 in /opt/conda/lib/python3.8/site-packages (from allennlp->depccg) (0.4.6)\n",
      "Requirement already satisfied: scipy>=1.7.3 in /opt/conda/lib/python3.8/site-packages (from allennlp->depccg) (1.8.0)\n",
      "Collecting protobuf>=3.0.0\n",
      "  Using cached protobuf-3.20.0-cp38-cp38-manylinux_2_5_x86_64.manylinux1_x86_64.whl (1.0 MB)\n",
      "Requirement already satisfied: scikit-learn>=1.0.1 in /opt/conda/lib/python3.8/site-packages (from allennlp->depccg) (1.1.1)\n",
      "Requirement already satisfied: huggingface-hub>=0.0.16 in /opt/conda/lib/python3.8/site-packages (from allennlp->depccg) (0.8.1)\n",
      "Requirement already satisfied: typer>=0.4.1 in /opt/conda/lib/python3.8/site-packages (from allennlp->depccg) (0.4.2)\n",
      "Requirement already satisfied: h5py>=3.6.0 in /opt/conda/lib/python3.8/site-packages (from allennlp->depccg) (3.6.0)\n",
      "Requirement already satisfied: torchvision<0.13.0,>=0.8.1 in /opt/conda/lib/python3.8/site-packages (from allennlp->depccg) (0.12.0)\n",
      "Requirement already satisfied: pytest>=6.2.5 in /opt/conda/lib/python3.8/site-packages (from allennlp->depccg) (7.1.2)\n",
      "Requirement already satisfied: pygments<3.0.0,>=2.6.0 in /opt/conda/lib/python3.8/site-packages (from rich==12.1->allennlp->depccg) (2.11.2)\n",
      "Requirement already satisfied: commonmark<0.10.0,>=0.9.0 in /opt/conda/lib/python3.8/site-packages (from rich==12.1->allennlp->depccg) (0.9.1)\n",
      "Requirement already satisfied: boto3<2.0,>=1.0 in /opt/conda/lib/python3.8/site-packages (from cached-path<1.2.0,>=1.1.3->allennlp->depccg) (1.24.52)\n",
      "Requirement already satisfied: google-cloud-storage<3.0,>=1.32.0 in /opt/conda/lib/python3.8/site-packages (from cached-path<1.2.0,>=1.1.3->allennlp->depccg) (2.5.0)\n",
      "Requirement already satisfied: botocore<1.28.0,>=1.27.52 in /opt/conda/lib/python3.8/site-packages (from boto3<2.0,>=1.0->cached-path<1.2.0,>=1.1.3->allennlp->depccg) (1.27.52)\n",
      "Requirement already satisfied: jmespath<2.0.0,>=0.7.1 in /opt/conda/lib/python3.8/site-packages (from boto3<2.0,>=1.0->cached-path<1.2.0,>=1.1.3->allennlp->depccg) (1.0.1)\n",
      "Requirement already satisfied: s3transfer<0.7.0,>=0.6.0 in /opt/conda/lib/python3.8/site-packages (from boto3<2.0,>=1.0->cached-path<1.2.0,>=1.1.3->allennlp->depccg) (0.6.0)\n",
      "Requirement already satisfied: python-dateutil<3.0.0,>=2.1 in /opt/conda/lib/python3.8/site-packages (from botocore<1.28.0,>=1.27.52->boto3<2.0,>=1.0->cached-path<1.2.0,>=1.1.3->allennlp->depccg) (2.8.2)\n",
      "Requirement already satisfied: urllib3<1.27,>=1.25.4 in /opt/conda/lib/python3.8/site-packages (from botocore<1.28.0,>=1.27.52->boto3<2.0,>=1.0->cached-path<1.2.0,>=1.1.3->allennlp->depccg) (1.26.11)\n",
      "Requirement already satisfied: google-auth<3.0dev,>=1.25.0 in /opt/conda/lib/python3.8/site-packages (from google-cloud-storage<3.0,>=1.32.0->cached-path<1.2.0,>=1.1.3->allennlp->depccg) (2.10.0)\n",
      "Requirement already satisfied: google-cloud-core<3.0dev,>=2.3.0 in /opt/conda/lib/python3.8/site-packages (from google-cloud-storage<3.0,>=1.32.0->cached-path<1.2.0,>=1.1.3->allennlp->depccg) (2.3.2)\n",
      "Requirement already satisfied: google-resumable-media>=2.3.2 in /opt/conda/lib/python3.8/site-packages (from google-cloud-storage<3.0,>=1.32.0->cached-path<1.2.0,>=1.1.3->allennlp->depccg) (2.3.3)\n",
      "Requirement already satisfied: google-api-core!=2.0.*,!=2.1.*,!=2.2.*,!=2.3.0,<3.0.0dev,>=1.31.5 in /opt/conda/lib/python3.8/site-packages (from google-cloud-storage<3.0,>=1.32.0->cached-path<1.2.0,>=1.1.3->allennlp->depccg) (2.8.2)\n",
      "Requirement already satisfied: googleapis-common-protos<2.0dev,>=1.56.2 in /opt/conda/lib/python3.8/site-packages (from google-api-core!=2.0.*,!=2.1.*,!=2.2.*,!=2.3.0,<3.0.0dev,>=1.31.5->google-cloud-storage<3.0,>=1.32.0->cached-path<1.2.0,>=1.1.3->allennlp->depccg) (1.56.4)\n",
      "Requirement already satisfied: rsa<5,>=3.1.4 in /opt/conda/lib/python3.8/site-packages (from google-auth<3.0dev,>=1.25.0->google-cloud-storage<3.0,>=1.32.0->cached-path<1.2.0,>=1.1.3->allennlp->depccg) (4.9)\n",
      "Requirement already satisfied: cachetools<6.0,>=2.0.0 in /opt/conda/lib/python3.8/site-packages (from google-auth<3.0dev,>=1.25.0->google-cloud-storage<3.0,>=1.32.0->cached-path<1.2.0,>=1.1.3->allennlp->depccg) (5.2.0)\n",
      "Requirement already satisfied: pyasn1-modules>=0.2.1 in /opt/conda/lib/python3.8/site-packages (from google-auth<3.0dev,>=1.25.0->google-cloud-storage<3.0,>=1.32.0->cached-path<1.2.0,>=1.1.3->allennlp->depccg) (0.2.8)\n",
      "Requirement already satisfied: google-crc32c<2.0dev,>=1.0 in /opt/conda/lib/python3.8/site-packages (from google-resumable-media>=2.3.2->google-cloud-storage<3.0,>=1.32.0->cached-path<1.2.0,>=1.1.3->allennlp->depccg) (1.3.0)\n",
      "Requirement already satisfied: packaging>=20.9 in /opt/conda/lib/python3.8/site-packages (from huggingface-hub>=0.0.16->allennlp->depccg) (21.3)\n",
      "Requirement already satisfied: regex>=2021.8.3 in /opt/conda/lib/python3.8/site-packages (from nltk->depccg) (2022.7.25)\n",
      "Requirement already satisfied: click in /opt/conda/lib/python3.8/site-packages (from nltk->depccg) (8.1.3)\n",
      "Requirement already satisfied: joblib in /opt/conda/lib/python3.8/site-packages (from nltk->depccg) (1.1.0)\n",
      "Requirement already satisfied: pyparsing!=3.0.5,>=2.0.2 in /opt/conda/lib/python3.8/site-packages (from packaging>=20.9->huggingface-hub>=0.0.16->allennlp->depccg) (3.0.7)\n",
      "Requirement already satisfied: pyasn1<0.5.0,>=0.4.6 in /opt/conda/lib/python3.8/site-packages (from pyasn1-modules>=0.2.1->google-auth<3.0dev,>=1.25.0->google-cloud-storage<3.0,>=1.32.0->cached-path<1.2.0,>=1.1.3->allennlp->depccg) (0.4.8)\n",
      "Requirement already satisfied: py>=1.8.2 in /opt/conda/lib/python3.8/site-packages (from pytest>=6.2.5->allennlp->depccg) (1.11.0)\n",
      "Requirement already satisfied: tomli>=1.0.0 in /opt/conda/lib/python3.8/site-packages (from pytest>=6.2.5->allennlp->depccg) (2.0.1)\n",
      "Requirement already satisfied: attrs>=19.2.0 in /opt/conda/lib/python3.8/site-packages (from pytest>=6.2.5->allennlp->depccg) (21.4.0)\n",
      "Requirement already satisfied: pluggy<2.0,>=0.12 in /opt/conda/lib/python3.8/site-packages (from pytest>=6.2.5->allennlp->depccg) (1.0.0)\n",
      "Requirement already satisfied: iniconfig in /opt/conda/lib/python3.8/site-packages (from pytest>=6.2.5->allennlp->depccg) (1.1.1)\n",
      "Requirement already satisfied: certifi>=2017.4.17 in /opt/conda/lib/python3.8/site-packages (from requests->depccg) (2021.10.8)\n",
      "Requirement already satisfied: charset-normalizer<3,>=2 in /opt/conda/lib/python3.8/site-packages (from requests->depccg) (2.0.12)\n",
      "Requirement already satisfied: idna<4,>=2.5 in /opt/conda/lib/python3.8/site-packages (from requests->depccg) (3.3)\n",
      "Requirement already satisfied: threadpoolctl>=2.0.0 in /opt/conda/lib/python3.8/site-packages (from scikit-learn>=1.0.1->allennlp->depccg) (3.1.0)\n",
      "Requirement already satisfied: thinc<8.1.0,>=8.0.14 in /opt/conda/lib/python3.8/site-packages (from spacy<3.4,>=2.1.0->allennlp->depccg) (8.0.17)\n",
      "Requirement already satisfied: blis<0.8.0,>=0.4.0 in /opt/conda/lib/python3.8/site-packages (from spacy<3.4,>=2.1.0->allennlp->depccg) (0.7.8)\n",
      "Requirement already satisfied: wasabi<1.1.0,>=0.9.1 in /opt/conda/lib/python3.8/site-packages (from spacy<3.4,>=2.1.0->allennlp->depccg) (0.10.1)\n",
      "Requirement already satisfied: catalogue<2.1.0,>=2.0.6 in /opt/conda/lib/python3.8/site-packages (from spacy<3.4,>=2.1.0->allennlp->depccg) (2.0.8)\n",
      "Requirement already satisfied: jinja2 in /opt/conda/lib/python3.8/site-packages (from spacy<3.4,>=2.1.0->allennlp->depccg) (3.0.3)\n",
      "Requirement already satisfied: pydantic!=1.8,!=1.8.1,<1.9.0,>=1.7.4 in /opt/conda/lib/python3.8/site-packages (from spacy<3.4,>=2.1.0->allennlp->depccg) (1.8.2)\n",
      "Requirement already satisfied: srsly<3.0.0,>=2.4.3 in /opt/conda/lib/python3.8/site-packages (from spacy<3.4,>=2.1.0->allennlp->depccg) (2.4.4)\n",
      "Requirement already satisfied: spacy-legacy<3.1.0,>=3.0.9 in /opt/conda/lib/python3.8/site-packages (from spacy<3.4,>=2.1.0->allennlp->depccg) (3.0.9)\n",
      "Requirement already satisfied: murmurhash<1.1.0,>=0.28.0 in /opt/conda/lib/python3.8/site-packages (from spacy<3.4,>=2.1.0->allennlp->depccg) (1.0.8)\n",
      "Requirement already satisfied: pathy>=0.3.5 in /opt/conda/lib/python3.8/site-packages (from spacy<3.4,>=2.1.0->allennlp->depccg) (0.6.2)\n",
      "Requirement already satisfied: cymem<2.1.0,>=2.0.2 in /opt/conda/lib/python3.8/site-packages (from spacy<3.4,>=2.1.0->allennlp->depccg) (2.0.6)\n",
      "Requirement already satisfied: preshed<3.1.0,>=3.0.2 in /opt/conda/lib/python3.8/site-packages (from spacy<3.4,>=2.1.0->allennlp->depccg) (3.0.7)\n",
      "Requirement already satisfied: spacy-loggers<2.0.0,>=1.0.0 in /opt/conda/lib/python3.8/site-packages (from spacy<3.4,>=2.1.0->allennlp->depccg) (1.0.3)\n",
      "Requirement already satisfied: langcodes<4.0.0,>=3.2.0 in /opt/conda/lib/python3.8/site-packages (from spacy<3.4,>=2.1.0->allennlp->depccg) (3.3.0)\n",
      "Requirement already satisfied: smart-open<6.0.0,>=5.2.1 in /opt/conda/lib/python3.8/site-packages (from pathy>=0.3.5->spacy<3.4,>=2.1.0->allennlp->depccg) (5.2.1)\n",
      "Requirement already satisfied: pillow!=8.3.*,>=5.3.0 in /opt/conda/lib/python3.8/site-packages (from torchvision<0.13.0,>=0.8.1->allennlp->depccg) (9.0.1)\n",
      "Requirement already satisfied: tokenizers!=0.11.3,<0.13,>=0.11.1 in /opt/conda/lib/python3.8/site-packages (from transformers<4.21,>=4.1->allennlp->depccg) (0.12.1)\n",
      "Requirement already satisfied: pathtools in /opt/conda/lib/python3.8/site-packages (from wandb<0.13.0,>=0.10.0->allennlp->depccg) (0.1.2)\n",
      "Requirement already satisfied: promise<3,>=2.0 in /opt/conda/lib/python3.8/site-packages (from wandb<0.13.0,>=0.10.0->allennlp->depccg) (2.3)\n",
      "Requirement already satisfied: GitPython>=1.0.0 in /opt/conda/lib/python3.8/site-packages (from wandb<0.13.0,>=0.10.0->allennlp->depccg) (3.1.27)\n",
      "Requirement already satisfied: setproctitle in /opt/conda/lib/python3.8/site-packages (from wandb<0.13.0,>=0.10.0->allennlp->depccg) (1.3.2)\n",
      "Requirement already satisfied: docker-pycreds>=0.4.0 in /opt/conda/lib/python3.8/site-packages (from wandb<0.13.0,>=0.10.0->allennlp->depccg) (0.4.0)\n",
      "Requirement already satisfied: psutil>=5.0.0 in /opt/conda/lib/python3.8/site-packages (from wandb<0.13.0,>=0.10.0->allennlp->depccg) (5.9.0)\n",
      "Requirement already satisfied: shortuuid>=0.5.0 in /opt/conda/lib/python3.8/site-packages (from wandb<0.13.0,>=0.10.0->allennlp->depccg) (1.0.9)\n",
      "Requirement already satisfied: sentry-sdk>=1.0.0 in /opt/conda/lib/python3.8/site-packages (from wandb<0.13.0,>=0.10.0->allennlp->depccg) (1.9.5)\n",
      "Requirement already satisfied: gitdb<5,>=4.0.1 in /opt/conda/lib/python3.8/site-packages (from GitPython>=1.0.0->wandb<0.13.0,>=0.10.0->allennlp->depccg) (4.0.9)\n",
      "Requirement already satisfied: smmap<6,>=3.0.1 in /opt/conda/lib/python3.8/site-packages (from gitdb<5,>=4.0.1->GitPython>=1.0.0->wandb<0.13.0,>=0.10.0->allennlp->depccg) (5.0.0)\n",
      "Requirement already satisfied: conllu==4.4.2 in /opt/conda/lib/python3.8/site-packages (from allennlp-models->depccg) (4.4.2)\n",
      "Requirement already satisfied: ftfy in /opt/conda/lib/python3.8/site-packages (from allennlp-models->depccg) (6.1.1)\n",
      "Requirement already satisfied: py-rouge==1.1 in /opt/conda/lib/python3.8/site-packages (from allennlp-models->depccg) (1.1)\n",
      "Requirement already satisfied: word2number>=1.1 in /opt/conda/lib/python3.8/site-packages (from allennlp-models->depccg) (1.1)\n",
      "Requirement already satisfied: datasets in /opt/conda/lib/python3.8/site-packages (from allennlp-models->depccg) (2.4.0)\n",
      "Requirement already satisfied: xxhash in /opt/conda/lib/python3.8/site-packages (from datasets->allennlp-models->depccg) (3.0.0)\n",
      "Requirement already satisfied: responses<0.19 in /opt/conda/lib/python3.8/site-packages (from datasets->allennlp-models->depccg) (0.18.0)\n",
      "Requirement already satisfied: fsspec[http]>=2021.11.1 in /opt/conda/lib/python3.8/site-packages (from datasets->allennlp-models->depccg) (2022.7.1)\n",
      "Requirement already satisfied: aiohttp in /opt/conda/lib/python3.8/site-packages (from datasets->allennlp-models->depccg) (3.8.1)\n",
      "Requirement already satisfied: pyarrow>=6.0.0 in /opt/conda/lib/python3.8/site-packages (from datasets->allennlp-models->depccg) (9.0.0)\n",
      "Requirement already satisfied: multiprocess in /opt/conda/lib/python3.8/site-packages (from datasets->allennlp-models->depccg) (0.70.13)\n",
      "Requirement already satisfied: pandas in /opt/conda/lib/python3.8/site-packages (from datasets->allennlp-models->depccg) (1.3.5)\n",
      "Requirement already satisfied: async-timeout<5.0,>=4.0.0a3 in /opt/conda/lib/python3.8/site-packages (from aiohttp->datasets->allennlp-models->depccg) (4.0.2)\n",
      "Requirement already satisfied: multidict<7.0,>=4.5 in /opt/conda/lib/python3.8/site-packages (from aiohttp->datasets->allennlp-models->depccg) (6.0.2)\n",
      "Requirement already satisfied: aiosignal>=1.1.2 in /opt/conda/lib/python3.8/site-packages (from aiohttp->datasets->allennlp-models->depccg) (1.2.0)\n",
      "Requirement already satisfied: frozenlist>=1.1.1 in /opt/conda/lib/python3.8/site-packages (from aiohttp->datasets->allennlp-models->depccg) (1.3.1)\n",
      "Requirement already satisfied: yarl<2.0,>=1.0 in /opt/conda/lib/python3.8/site-packages (from aiohttp->datasets->allennlp-models->depccg) (1.8.1)\n",
      "Requirement already satisfied: wcwidth>=0.2.5 in /opt/conda/lib/python3.8/site-packages (from ftfy->allennlp-models->depccg) (0.2.5)\n",
      "Requirement already satisfied: MarkupSafe>=2.0 in /opt/conda/lib/python3.8/site-packages (from jinja2->spacy<3.4,>=2.1.0->allennlp->depccg) (2.1.1)\n",
      "Requirement already satisfied: pytz>=2017.3 in /opt/conda/lib/python3.8/site-packages (from pandas->datasets->allennlp-models->depccg) (2022.1)\n",
      "Installing collected packages: protobuf\n",
      "  Attempting uninstall: protobuf\n",
      "    Found existing installation: protobuf 3.19.4\n",
      "    Uninstalling protobuf-3.19.4:\n",
      "      Successfully uninstalled protobuf-3.19.4\n",
      "\u001b[31mERROR: pip's dependency resolver does not currently take into account all the packages that are installed. This behaviour is the source of the following dependency conflicts.\n",
      "tensorboard 2.10.0 requires protobuf<3.20,>=3.9.2, but you have protobuf 3.20.0 which is incompatible.\u001b[0m\n",
      "Successfully installed protobuf-3.20.0\n",
      "Note: you may need to restart the kernel to use updated packages.\n"
     ]
    }
   ],
   "source": [
    "pip install cython numpy depccg"
   ]
  },
  {
   "cell_type": "code",
   "execution_count": 5,
   "id": "7f6c9848-5ef2-4ab7-aa18-a88e67550297",
   "metadata": {},
   "outputs": [
    {
     "name": "stdout",
     "output_type": "stream",
     "text": [
      "Requirement already satisfied: torch in /opt/conda/lib/python3.8/site-packages (1.11.0)\n",
      "Requirement already satisfied: typing-extensions in /opt/conda/lib/python3.8/site-packages (from torch) (4.3.0)\n",
      "Note: you may need to restart the kernel to use updated packages.\n"
     ]
    }
   ],
   "source": [
    "pip install torch\n"
   ]
  },
  {
   "cell_type": "code",
   "execution_count": 6,
   "id": "ebf8b20d-3aaf-4d54-b2e7-1efd760e6d61",
   "metadata": {},
   "outputs": [
    {
     "name": "stderr",
     "output_type": "stream",
     "text": [
      "/opt/conda/lib/python3.8/site-packages/lambeq/text2diagram/ccg_parser.py:24: TqdmExperimentalWarning: Using `tqdm.autonotebook.tqdm` in notebook mode. Use `tqdm.tqdm` instead to force console mode (e.g. in jupyter console)\n",
      "  from tqdm.autonotebook import tqdm\n"
     ]
    }
   ],
   "source": [
    "from lambeq import BobcatParser"
   ]
  },
  {
   "cell_type": "code",
   "execution_count": 7,
   "id": "03dcc959-5811-410d-bf67-d0d7c6c7e8f6",
   "metadata": {},
   "outputs": [
    {
     "name": "stdout",
     "output_type": "stream",
     "text": [
      "Requirement already satisfied: lambeq in /opt/conda/lib/python3.8/site-packages (0.2.6)\n",
      "Collecting lambeq\n",
      "  Using cached lambeq-0.2.6-py3-none-any.whl (126 kB)\n",
      "  Using cached lambeq-0.2.5-py3-none-any.whl (124 kB)\n",
      "Requirement already satisfied: torch>=1.10.1 in /opt/conda/lib/python3.8/site-packages (from lambeq) (1.11.0)\n",
      "Requirement already satisfied: pytket>=0.19.2 in /opt/conda/lib/python3.8/site-packages (from lambeq) (1.5.0)\n",
      "Requirement already satisfied: transformers in /opt/conda/lib/python3.8/site-packages (from lambeq) (4.20.1)\n",
      "Requirement already satisfied: pyyaml in /opt/conda/lib/python3.8/site-packages (from lambeq) (6.0)\n",
      "Requirement already satisfied: discopy>=0.4.2 in /opt/conda/lib/python3.8/site-packages (from lambeq) (0.4.2)\n",
      "Requirement already satisfied: tensornetwork in /opt/conda/lib/python3.8/site-packages (from lambeq) (0.4.6)\n",
      "Requirement already satisfied: spacy>=3.0 in /opt/conda/lib/python3.8/site-packages (from lambeq) (3.3.1)\n",
      "Requirement already satisfied: pillow>=6.2.1 in /opt/conda/lib/python3.8/site-packages (from discopy>=0.4.2->lambeq) (9.0.1)\n",
      "Requirement already satisfied: matplotlib>=3.1.2 in /opt/conda/lib/python3.8/site-packages (from discopy>=0.4.2->lambeq) (3.5.1)\n",
      "Requirement already satisfied: numpy>=1.18.1 in /opt/conda/lib/python3.8/site-packages (from discopy>=0.4.2->lambeq) (1.22.4)\n",
      "Requirement already satisfied: networkx>=2.4 in /opt/conda/lib/python3.8/site-packages (from discopy>=0.4.2->lambeq) (2.7.1)\n",
      "Requirement already satisfied: kiwisolver>=1.0.1 in /opt/conda/lib/python3.8/site-packages (from matplotlib>=3.1.2->discopy>=0.4.2->lambeq) (1.4.2)\n",
      "Requirement already satisfied: python-dateutil>=2.7 in /opt/conda/lib/python3.8/site-packages (from matplotlib>=3.1.2->discopy>=0.4.2->lambeq) (2.8.2)\n",
      "Requirement already satisfied: packaging>=20.0 in /opt/conda/lib/python3.8/site-packages (from matplotlib>=3.1.2->discopy>=0.4.2->lambeq) (21.3)\n",
      "Requirement already satisfied: cycler>=0.10 in /opt/conda/lib/python3.8/site-packages (from matplotlib>=3.1.2->discopy>=0.4.2->lambeq) (0.11.0)\n",
      "Requirement already satisfied: fonttools>=4.22.0 in /opt/conda/lib/python3.8/site-packages (from matplotlib>=3.1.2->discopy>=0.4.2->lambeq) (4.31.2)\n",
      "Requirement already satisfied: pyparsing>=2.2.1 in /opt/conda/lib/python3.8/site-packages (from matplotlib>=3.1.2->discopy>=0.4.2->lambeq) (3.0.7)\n",
      "Requirement already satisfied: six>=1.5 in /opt/conda/lib/python3.8/site-packages (from python-dateutil>=2.7->matplotlib>=3.1.2->discopy>=0.4.2->lambeq) (1.16.0)\n",
      "Requirement already satisfied: graphviz~=0.14 in /opt/conda/lib/python3.8/site-packages (from pytket>=0.19.2->lambeq) (0.20.1)\n",
      "Requirement already satisfied: lark-parser~=0.7 in /opt/conda/lib/python3.8/site-packages (from pytket>=0.19.2->lambeq) (0.12.0)\n",
      "Requirement already satisfied: typing-extensions~=4.2 in /opt/conda/lib/python3.8/site-packages (from pytket>=0.19.2->lambeq) (4.3.0)\n",
      "Requirement already satisfied: sympy~=1.6 in /opt/conda/lib/python3.8/site-packages (from pytket>=0.19.2->lambeq) (1.10.1)\n",
      "Requirement already satisfied: scipy<2.0,>=1.7.2 in /opt/conda/lib/python3.8/site-packages (from pytket>=0.19.2->lambeq) (1.8.0)\n",
      "Requirement already satisfied: jinja2~=3.0 in /opt/conda/lib/python3.8/site-packages (from pytket>=0.19.2->lambeq) (3.0.3)\n",
      "Requirement already satisfied: types-pkg-resources in /opt/conda/lib/python3.8/site-packages (from pytket>=0.19.2->lambeq) (0.1.3)\n",
      "Requirement already satisfied: MarkupSafe>=2.0 in /opt/conda/lib/python3.8/site-packages (from jinja2~=3.0->pytket>=0.19.2->lambeq) (2.1.1)\n",
      "Requirement already satisfied: preshed<3.1.0,>=3.0.2 in /opt/conda/lib/python3.8/site-packages (from spacy>=3.0->lambeq) (3.0.7)\n",
      "Requirement already satisfied: srsly<3.0.0,>=2.4.3 in /opt/conda/lib/python3.8/site-packages (from spacy>=3.0->lambeq) (2.4.4)\n",
      "Requirement already satisfied: pydantic!=1.8,!=1.8.1,<1.9.0,>=1.7.4 in /opt/conda/lib/python3.8/site-packages (from spacy>=3.0->lambeq) (1.8.2)\n",
      "Requirement already satisfied: blis<0.8.0,>=0.4.0 in /opt/conda/lib/python3.8/site-packages (from spacy>=3.0->lambeq) (0.7.8)\n",
      "Requirement already satisfied: requests<3.0.0,>=2.13.0 in /opt/conda/lib/python3.8/site-packages (from spacy>=3.0->lambeq) (2.28.1)\n",
      "Requirement already satisfied: wasabi<1.1.0,>=0.9.1 in /opt/conda/lib/python3.8/site-packages (from spacy>=3.0->lambeq) (0.10.1)\n",
      "Requirement already satisfied: murmurhash<1.1.0,>=0.28.0 in /opt/conda/lib/python3.8/site-packages (from spacy>=3.0->lambeq) (1.0.8)\n",
      "Requirement already satisfied: langcodes<4.0.0,>=3.2.0 in /opt/conda/lib/python3.8/site-packages (from spacy>=3.0->lambeq) (3.3.0)\n",
      "Requirement already satisfied: spacy-legacy<3.1.0,>=3.0.9 in /opt/conda/lib/python3.8/site-packages (from spacy>=3.0->lambeq) (3.0.9)\n",
      "Requirement already satisfied: catalogue<2.1.0,>=2.0.6 in /opt/conda/lib/python3.8/site-packages (from spacy>=3.0->lambeq) (2.0.8)\n",
      "Requirement already satisfied: pathy>=0.3.5 in /opt/conda/lib/python3.8/site-packages (from spacy>=3.0->lambeq) (0.6.2)\n",
      "Requirement already satisfied: cymem<2.1.0,>=2.0.2 in /opt/conda/lib/python3.8/site-packages (from spacy>=3.0->lambeq) (2.0.6)\n",
      "Requirement already satisfied: spacy-loggers<2.0.0,>=1.0.0 in /opt/conda/lib/python3.8/site-packages (from spacy>=3.0->lambeq) (1.0.3)\n",
      "Requirement already satisfied: setuptools in /opt/conda/lib/python3.8/site-packages (from spacy>=3.0->lambeq) (61.2.0)\n",
      "Requirement already satisfied: tqdm<5.0.0,>=4.38.0 in /opt/conda/lib/python3.8/site-packages (from spacy>=3.0->lambeq) (4.64.0)\n",
      "Requirement already satisfied: typer<0.5.0,>=0.3.0 in /opt/conda/lib/python3.8/site-packages (from spacy>=3.0->lambeq) (0.4.2)\n",
      "Requirement already satisfied: thinc<8.1.0,>=8.0.14 in /opt/conda/lib/python3.8/site-packages (from spacy>=3.0->lambeq) (8.0.17)\n",
      "Requirement already satisfied: smart-open<6.0.0,>=5.2.1 in /opt/conda/lib/python3.8/site-packages (from pathy>=0.3.5->spacy>=3.0->lambeq) (5.2.1)\n",
      "Requirement already satisfied: urllib3<1.27,>=1.21.1 in /opt/conda/lib/python3.8/site-packages (from requests<3.0.0,>=2.13.0->spacy>=3.0->lambeq) (1.26.11)\n",
      "Requirement already satisfied: charset-normalizer<3,>=2 in /opt/conda/lib/python3.8/site-packages (from requests<3.0.0,>=2.13.0->spacy>=3.0->lambeq) (2.0.12)\n",
      "Requirement already satisfied: certifi>=2017.4.17 in /opt/conda/lib/python3.8/site-packages (from requests<3.0.0,>=2.13.0->spacy>=3.0->lambeq) (2021.10.8)\n",
      "Requirement already satisfied: idna<4,>=2.5 in /opt/conda/lib/python3.8/site-packages (from requests<3.0.0,>=2.13.0->spacy>=3.0->lambeq) (3.3)\n",
      "Requirement already satisfied: mpmath>=0.19 in /opt/conda/lib/python3.8/site-packages (from sympy~=1.6->pytket>=0.19.2->lambeq) (1.2.1)\n",
      "Requirement already satisfied: click<9.0.0,>=7.1.1 in /opt/conda/lib/python3.8/site-packages (from typer<0.5.0,>=0.3.0->spacy>=3.0->lambeq) (8.1.3)\n",
      "Requirement already satisfied: h5py>=2.9.0 in /opt/conda/lib/python3.8/site-packages (from tensornetwork->lambeq) (3.6.0)\n",
      "Requirement already satisfied: opt-einsum>=2.3.0 in /opt/conda/lib/python3.8/site-packages (from tensornetwork->lambeq) (3.3.0)\n",
      "Requirement already satisfied: huggingface-hub<1.0,>=0.1.0 in /opt/conda/lib/python3.8/site-packages (from transformers->lambeq) (0.8.1)\n",
      "Requirement already satisfied: regex!=2019.12.17 in /opt/conda/lib/python3.8/site-packages (from transformers->lambeq) (2022.7.25)\n",
      "Requirement already satisfied: filelock in /opt/conda/lib/python3.8/site-packages (from transformers->lambeq) (3.7.1)\n",
      "Requirement already satisfied: tokenizers!=0.11.3,<0.13,>=0.11.1 in /opt/conda/lib/python3.8/site-packages (from transformers->lambeq) (0.12.1)\n",
      "Note: you may need to restart the kernel to use updated packages.\n"
     ]
    }
   ],
   "source": [
    "pip install --upgrade lambeq"
   ]
  },
  {
   "cell_type": "code",
   "execution_count": 8,
   "id": "467ea533-f9e0-4420-9b3b-f5adf31ffe1b",
   "metadata": {},
   "outputs": [
    {
     "name": "stdout",
     "output_type": "stream",
     "text": [
      "Requirement already satisfied: pytket-qiskit in /opt/conda/lib/python3.8/site-packages (0.28.0)\n",
      "Requirement already satisfied: pytket~=1.5 in /opt/conda/lib/python3.8/site-packages (from pytket-qiskit) (1.5.0)\n",
      "Requirement already satisfied: qiskit~=0.37.0 in /opt/conda/lib/python3.8/site-packages (from pytket-qiskit) (0.37.0)\n",
      "Requirement already satisfied: jinja2~=3.0 in /opt/conda/lib/python3.8/site-packages (from pytket~=1.5->pytket-qiskit) (3.0.3)\n",
      "Requirement already satisfied: graphviz~=0.14 in /opt/conda/lib/python3.8/site-packages (from pytket~=1.5->pytket-qiskit) (0.20.1)\n",
      "Requirement already satisfied: types-pkg-resources in /opt/conda/lib/python3.8/site-packages (from pytket~=1.5->pytket-qiskit) (0.1.3)\n",
      "Requirement already satisfied: sympy~=1.6 in /opt/conda/lib/python3.8/site-packages (from pytket~=1.5->pytket-qiskit) (1.10.1)\n",
      "Requirement already satisfied: lark-parser~=0.7 in /opt/conda/lib/python3.8/site-packages (from pytket~=1.5->pytket-qiskit) (0.12.0)\n",
      "Requirement already satisfied: networkx~=2.4 in /opt/conda/lib/python3.8/site-packages (from pytket~=1.5->pytket-qiskit) (2.7.1)\n",
      "Requirement already satisfied: typing-extensions~=4.2 in /opt/conda/lib/python3.8/site-packages (from pytket~=1.5->pytket-qiskit) (4.3.0)\n",
      "Requirement already satisfied: numpy<2.0,>=1.21.4 in /opt/conda/lib/python3.8/site-packages (from pytket~=1.5->pytket-qiskit) (1.22.4)\n",
      "Requirement already satisfied: scipy<2.0,>=1.7.2 in /opt/conda/lib/python3.8/site-packages (from pytket~=1.5->pytket-qiskit) (1.8.0)\n",
      "Requirement already satisfied: MarkupSafe>=2.0 in /opt/conda/lib/python3.8/site-packages (from jinja2~=3.0->pytket~=1.5->pytket-qiskit) (2.1.1)\n",
      "Requirement already satisfied: qiskit-terra==0.21.0 in /opt/conda/lib/python3.8/site-packages (from qiskit~=0.37.0->pytket-qiskit) (0.21.0)\n",
      "Requirement already satisfied: qiskit-ibmq-provider==0.19.2 in /opt/conda/lib/python3.8/site-packages (from qiskit~=0.37.0->pytket-qiskit) (0.19.2)\n",
      "Requirement already satisfied: qiskit-aer==0.10.4 in /opt/conda/lib/python3.8/site-packages (from qiskit~=0.37.0->pytket-qiskit) (0.10.4)\n",
      "Requirement already satisfied: websocket-client>=1.0.1 in /opt/conda/lib/python3.8/site-packages (from qiskit-ibmq-provider==0.19.2->qiskit~=0.37.0->pytket-qiskit) (1.3.2)\n",
      "Requirement already satisfied: requests-ntlm>=1.1.0 in /opt/conda/lib/python3.8/site-packages (from qiskit-ibmq-provider==0.19.2->qiskit~=0.37.0->pytket-qiskit) (1.1.0)\n",
      "Requirement already satisfied: urllib3>=1.21.1 in /opt/conda/lib/python3.8/site-packages (from qiskit-ibmq-provider==0.19.2->qiskit~=0.37.0->pytket-qiskit) (1.26.11)\n",
      "Requirement already satisfied: websockets>=10.0 in /opt/conda/lib/python3.8/site-packages (from qiskit-ibmq-provider==0.19.2->qiskit~=0.37.0->pytket-qiskit) (10.3)\n",
      "Requirement already satisfied: requests>=2.19 in /opt/conda/lib/python3.8/site-packages (from qiskit-ibmq-provider==0.19.2->qiskit~=0.37.0->pytket-qiskit) (2.28.1)\n",
      "Requirement already satisfied: python-dateutil>=2.8.0 in /opt/conda/lib/python3.8/site-packages (from qiskit-ibmq-provider==0.19.2->qiskit~=0.37.0->pytket-qiskit) (2.8.2)\n",
      "Requirement already satisfied: stevedore>=3.0.0 in /opt/conda/lib/python3.8/site-packages (from qiskit-terra==0.21.0->qiskit~=0.37.0->pytket-qiskit) (3.5.0)\n",
      "Requirement already satisfied: ply>=3.10 in /opt/conda/lib/python3.8/site-packages (from qiskit-terra==0.21.0->qiskit~=0.37.0->pytket-qiskit) (3.11)\n",
      "Requirement already satisfied: symengine>=0.9 in /opt/conda/lib/python3.8/site-packages (from qiskit-terra==0.21.0->qiskit~=0.37.0->pytket-qiskit) (0.9.2)\n",
      "Requirement already satisfied: psutil>=5 in /opt/conda/lib/python3.8/site-packages (from qiskit-terra==0.21.0->qiskit~=0.37.0->pytket-qiskit) (5.9.0)\n",
      "Requirement already satisfied: tweedledum<2.0,>=1.1 in /opt/conda/lib/python3.8/site-packages (from qiskit-terra==0.21.0->qiskit~=0.37.0->pytket-qiskit) (1.1.1)\n",
      "Requirement already satisfied: retworkx>=0.11.0 in /opt/conda/lib/python3.8/site-packages (from qiskit-terra==0.21.0->qiskit~=0.37.0->pytket-qiskit) (0.11.0)\n",
      "Requirement already satisfied: dill>=0.3 in /opt/conda/lib/python3.8/site-packages (from qiskit-terra==0.21.0->qiskit~=0.37.0->pytket-qiskit) (0.3.5.1)\n",
      "Requirement already satisfied: six>=1.5 in /opt/conda/lib/python3.8/site-packages (from python-dateutil>=2.8.0->qiskit-ibmq-provider==0.19.2->qiskit~=0.37.0->pytket-qiskit) (1.16.0)\n",
      "Requirement already satisfied: certifi>=2017.4.17 in /opt/conda/lib/python3.8/site-packages (from requests>=2.19->qiskit-ibmq-provider==0.19.2->qiskit~=0.37.0->pytket-qiskit) (2021.10.8)\n",
      "Requirement already satisfied: idna<4,>=2.5 in /opt/conda/lib/python3.8/site-packages (from requests>=2.19->qiskit-ibmq-provider==0.19.2->qiskit~=0.37.0->pytket-qiskit) (3.3)\n",
      "Requirement already satisfied: charset-normalizer<3,>=2 in /opt/conda/lib/python3.8/site-packages (from requests>=2.19->qiskit-ibmq-provider==0.19.2->qiskit~=0.37.0->pytket-qiskit) (2.0.12)\n",
      "Requirement already satisfied: ntlm-auth>=1.0.2 in /opt/conda/lib/python3.8/site-packages (from requests-ntlm>=1.1.0->qiskit-ibmq-provider==0.19.2->qiskit~=0.37.0->pytket-qiskit) (1.5.0)\n",
      "Requirement already satisfied: cryptography>=1.3 in /opt/conda/lib/python3.8/site-packages (from requests-ntlm>=1.1.0->qiskit-ibmq-provider==0.19.2->qiskit~=0.37.0->pytket-qiskit) (36.0.2)\n",
      "Requirement already satisfied: cffi>=1.12 in /opt/conda/lib/python3.8/site-packages (from cryptography>=1.3->requests-ntlm>=1.1.0->qiskit-ibmq-provider==0.19.2->qiskit~=0.37.0->pytket-qiskit) (1.15.0)\n",
      "Requirement already satisfied: pycparser in /opt/conda/lib/python3.8/site-packages (from cffi>=1.12->cryptography>=1.3->requests-ntlm>=1.1.0->qiskit-ibmq-provider==0.19.2->qiskit~=0.37.0->pytket-qiskit) (2.21)\n",
      "Requirement already satisfied: pbr!=2.1.0,>=2.0.0 in /opt/conda/lib/python3.8/site-packages (from stevedore>=3.0.0->qiskit-terra==0.21.0->qiskit~=0.37.0->pytket-qiskit) (5.8.1)\n",
      "Requirement already satisfied: mpmath>=0.19 in /opt/conda/lib/python3.8/site-packages (from sympy~=1.6->pytket~=1.5->pytket-qiskit) (1.2.1)\n",
      "Note: you may need to restart the kernel to use updated packages.\n"
     ]
    }
   ],
   "source": [
    "pip install pytket-qiskit"
   ]
  },
  {
   "cell_type": "markdown",
   "id": "0a5b398a-8dec-4e29-9976-6bfa3e4200b8",
   "metadata": {},
   "source": [
    "Training: Classical case"
   ]
  },
  {
   "cell_type": "raw",
   "id": "f5d1e8b1-d6cd-4b94-bfbe-46fe8941e33a",
   "metadata": {},
   "source": [
    "The goal is to classify simple sentences (such as “ skillful man teaches maths” and “woman plays music”) into two categories, study or music."
   ]
  },
  {
   "cell_type": "code",
   "execution_count": 9,
   "id": "23601032-a6f0-4771-be99-0c031330410c",
   "metadata": {},
   "outputs": [],
   "source": [
    "import torch\n",
    "\n",
    "BATCH_SIZE = 16\n",
    "EPOCHS = 30\n",
    "LEARNING_RATE = 3e-2\n",
    "SEED = 0"
   ]
  },
  {
   "cell_type": "code",
   "execution_count": 10,
   "id": "9d3b0339-165e-4381-b5d3-988841bb122d",
   "metadata": {},
   "outputs": [],
   "source": [
    "def read_data(filename):\n",
    "    labels, sentences = [], []\n",
    "    with open(filename) as f:\n",
    "        for line in f:\n",
    "            val = line[0]\n",
    "            value = float(val)\n",
    "            labels.append([value, 1-value])\n",
    "            sentences.append(line[1:].strip())\n",
    "            \n",
    "    return labels, sentences\n",
    "\n",
    "# import io\n",
    "# url = \"manmohan sir hi.csv\"\n",
    "# df = pd.read_csv(url)\n",
    "# print(df)\n",
    "\n",
    "train_labels, train_data = read_data('nlpDataTrain.txt')\n",
    "val_labels, val_data = read_data('nlpDataValid.txt')\n",
    "test_labels, test_data = read_data('nlpDataTest.txt')"
   ]
  },
  {
   "cell_type": "code",
   "execution_count": 11,
   "id": "be494e2e-e70f-45b7-87a3-0451f25ab1b9",
   "metadata": {},
   "outputs": [
    {
     "data": {
      "text/plain": [
       "['cook creates complicated dish, experienced chef prepares complicated dish',\n",
       " 'skilful programmer creates code, devoted hacker writes code',\n",
       " 'skilful cook creates meal, devoted hacker creates complicated code',\n",
       " 'hacker writes code, skilful hacker creates code',\n",
       " 'devoted hacker writes code, hacker writes complicated code']"
      ]
     },
     "execution_count": 11,
     "metadata": {},
     "output_type": "execute_result"
    }
   ],
   "source": [
    "train_data[:5]"
   ]
  },
  {
   "cell_type": "code",
   "execution_count": 12,
   "id": "5dbb547b-0493-4b83-a6e2-52fce3176f31",
   "metadata": {},
   "outputs": [
    {
     "data": {
      "text/plain": [
       "['cook prepares meal, chef creates meal',\n",
       " 'devoted hacker writes complicated code, skilful chef creates dish',\n",
       " 'programmer creates complicated code, devoted hacker creates advanced code',\n",
       " 'chef creates complicated meal, skilful programmer creates advanced code',\n",
       " 'skilful programmer creates complicated code, chef creates meal']"
      ]
     },
     "execution_count": 12,
     "metadata": {},
     "output_type": "execute_result"
    }
   ],
   "source": [
    "val_data[:5]"
   ]
  },
  {
   "cell_type": "code",
   "execution_count": 13,
   "id": "0b24df08-e657-4913-81bf-69913e3cb14c",
   "metadata": {},
   "outputs": [
    {
     "data": {
      "text/plain": [
       "['cook prepares meal, chef creates meal',\n",
       " 'devoted hacker writes complicated code, skilful chef creates dish',\n",
       " 'programmer creates complicated code, devoted hacker creates advanced code',\n",
       " 'chef creates complicated meal, skilful programmer creates advanced code',\n",
       " 'skilful programmer creates complicated code, chef creates meal']"
      ]
     },
     "execution_count": 13,
     "metadata": {},
     "output_type": "execute_result"
    }
   ],
   "source": [
    "test_data[:5]"
   ]
  },
  {
   "cell_type": "code",
   "execution_count": 14,
   "id": "166bb986-0550-4db9-b613-aeef5752c95a",
   "metadata": {},
   "outputs": [
    {
     "data": {
      "text/plain": [
       "[[1.0, 0.0], [1.0, 0.0], [0.0, 1.0], [1.0, 0.0], [1.0, 0.0]]"
      ]
     },
     "execution_count": 14,
     "metadata": {},
     "output_type": "execute_result"
    }
   ],
   "source": [
    "# Targets are represented as 2-dimensional arrays\n",
    "train_labels[:5]"
   ]
  },
  {
   "cell_type": "markdown",
   "id": "aa727922-cc41-45d5-be6e-c96420c2d97b",
   "metadata": {},
   "source": [
    "Creating and parameterising diagrams\n",
    "\n",
    "The first step is to convert sentences into string diagrams."
   ]
  },
  {
   "cell_type": "code",
   "execution_count": 15,
   "id": "19cebe33-1a7f-4157-8f91-c069b848a7a2",
   "metadata": {},
   "outputs": [
    {
     "name": "stderr",
     "output_type": "stream",
     "text": [
      "Tagging sentences.\n",
      "Parsing tagged sentences.\n",
      "Turning parse trees to diagrams.\n",
      "Tagging sentences.\n",
      "Parsing tagged sentences.\n",
      "Turning parse trees to diagrams.\n",
      "Tagging sentences.\n",
      "Parsing tagged sentences.\n",
      "Turning parse trees to diagrams.\n"
     ]
    }
   ],
   "source": [
    "from lambeq import BobcatParser\n",
    "\n",
    "parser = BobcatParser(verbose='text')\n",
    "\n",
    "train_diagrams = parser.sentences2diagrams(train_data)\n",
    "val_diagrams = parser.sentences2diagrams(val_data)\n",
    "test_diagrams = parser.sentences2diagrams(test_data)\n",
    "\n"
   ]
  },
  {
   "cell_type": "markdown",
   "id": "639df2e5-a20a-47d0-885f-7ce7d03d03c7",
   "metadata": {},
   "source": [
    "The produced diagrams need to be parameterised by a specific ansatz. For this experiment we will use a SpiderAnsatz."
   ]
  },
  {
   "cell_type": "code",
   "execution_count": 16,
   "id": "10fd75ae-8646-4902-ba5e-908e848a6335",
   "metadata": {},
   "outputs": [
    {
     "name": "stdout",
     "output_type": "stream",
     "text": [
      "train circuits\n"
     ]
    },
    {
     "data": {
      "image/png": "[encoded data removed]",
      "text/plain": [
       "<Figure size 432x288 with 1 Axes>"
      ]
     },
     "metadata": {},
     "output_type": "display_data"
    },
    {
     "name": "stdout",
     "output_type": "stream",
     "text": [
      "val circuits\n"
     ]
    },
    {
     "data": {
      "image/png": "[encoded data removed]",
      "text/plain": [
       "<Figure size 432x288 with 1 Axes>"
      ]
     },
     "metadata": {},
     "output_type": "display_data"
    },
    {
     "name": "stdout",
     "output_type": "stream",
     "text": [
      "test circuits\n"
     ]
    },
    {
     "data": {
      "image/png": "[encoded data removed]",
      "text/plain": [
       "<Figure size 432x288 with 1 Axes>"
      ]
     },
     "metadata": {},
     "output_type": "display_data"
    }
   ],
   "source": [
    "from discopy import Dim\n",
    "\n",
    "from lambeq import AtomicType, SpiderAnsatz\n",
    "\n",
    "ansatz = SpiderAnsatz({AtomicType.NOUN: Dim(2),\n",
    "                       AtomicType.SENTENCE: Dim(2)})\n",
    "\n",
    "train_circuits = [ansatz(diagram) for diagram in train_diagrams]\n",
    "val_circuits =  [ansatz(diagram) for diagram in val_diagrams]\n",
    "test_circuits = [ansatz(diagram) for diagram in test_diagrams]\n",
    "print(\"train circuits\")\n",
    "train_circuits[0].draw()\n",
    "print(\"val circuits\")\n",
    "val_circuits[0].draw()\n",
    "print(\"test circuits\")\n",
    "test_circuits[0].draw()"
   ]
  },
  {
   "cell_type": "markdown",
   "id": "02cd52fd-7912-43ef-9fc3-6a422ec31bc6",
   "metadata": {},
   "source": [
    "Instantiate the model"
   ]
  },
  {
   "cell_type": "markdown",
   "id": "fe5109a6-4b56-494a-b340-d9e9d18cd79f",
   "metadata": {},
   "source": [
    "We can now initialise the model by importing the PytorchModel class, and passing all diagrams to the class method PytorchModel.from_diagrams()."
   ]
  },
  {
   "cell_type": "code",
   "execution_count": 17,
   "id": "fbabed5c-090e-4354-8dc2-1e1c6264c2bb",
   "metadata": {},
   "outputs": [],
   "source": [
    "from lambeq import PytorchModel\n",
    "\n",
    "all_circuits = train_circuits + val_circuits + test_circuits\n",
    "model = PytorchModel.from_diagrams(all_circuits)"
   ]
  },
  {
   "cell_type": "code",
   "execution_count": 18,
   "id": "fa9491d2-0373-493b-922c-82184cc5fde9",
   "metadata": {},
   "outputs": [],
   "source": [
    "sig = torch.sigmoid\n",
    "\n",
    "def accuracy(y_hat, y):\n",
    "    return torch.sum(torch.eq(torch.round(sig(y_hat)), y))/len(y)/2  # half due to double-counting\n",
    "\n",
    "eval_metrics = {\"acc\": accuracy}"
   ]
  },
  {
   "cell_type": "code",
   "execution_count": 19,
   "id": "abeb7325-e650-4706-9e95-c8adeb0037f8",
   "metadata": {},
   "outputs": [],
   "source": [
    "# PytorchTrainer object. Because this is a binary classification task, we will use binary cross-entropy as the loss.\n",
    "from lambeq import PytorchTrainer\n",
    "\n",
    "trainer = PytorchTrainer(\n",
    "        model=model,\n",
    "        loss_function=torch.nn.BCEWithLogitsLoss(),\n",
    "        optimizer=torch.optim.AdamW,\n",
    "        learning_rate=LEARNING_RATE,\n",
    "        epochs=EPOCHS,\n",
    "        evaluate_functions=eval_metrics,\n",
    "        evaluate_on_train=True,\n",
    "        verbose='text',\n",
    "        seed=SEED)"
   ]
  },
  {
   "cell_type": "code",
   "execution_count": 20,
   "id": "e0e5e1a6-ac61-4554-a20b-d9fca9fbe9b6",
   "metadata": {},
   "outputs": [],
   "source": [
    "from lambeq import Dataset\n",
    "\n",
    "train_dataset = Dataset(\n",
    "            train_circuits,\n",
    "            train_labels,\n",
    "            batch_size=BATCH_SIZE)\n",
    "\n",
    "val_dataset = Dataset(val_circuits, val_labels, shuffle=False)"
   ]
  },
  {
   "cell_type": "markdown",
   "id": "cd0dc4b2-1a9c-4290-befa-2322d0a3141c",
   "metadata": {},
   "source": [
    "Train the model"
   ]
  },
  {
   "cell_type": "code",
   "execution_count": 21,
   "id": "391060f5-2cc9-4875-b57f-a428d8951ad7",
   "metadata": {},
   "outputs": [
    {
     "name": "stderr",
     "output_type": "stream",
     "text": [
      "Epoch 1:   train/loss: 0.6937   valid/loss: 0.6916   train/acc: 0.5000   valid/acc: 0.5000\n",
      "Epoch 5:   train/loss: 0.6025   valid/loss: 0.5721   train/acc: 0.6040   valid/acc: 0.5625\n",
      "Epoch 10:  train/loss: 0.4312   valid/loss: 0.4333   train/acc: 0.7574   valid/acc: 0.6250\n",
      "Epoch 15:  train/loss: 0.1729   valid/loss: 0.1369   train/acc: 0.9307   valid/acc: 0.8750\n",
      "Epoch 20:  train/loss: 0.0583   valid/loss: 0.0563   train/acc: 0.9901   valid/acc: 1.0000\n",
      "Epoch 25:  train/loss: 0.0128   valid/loss: 0.0093   train/acc: 0.9950   valid/acc: 1.0000\n",
      "Epoch 30:  train/loss: 0.0162   valid/loss: 0.0004   train/acc: 0.9950   valid/acc: 1.0000\n",
      "\n",
      "Training completed!\n"
     ]
    }
   ],
   "source": [
    "trainer.fit(train_dataset, val_dataset, evaluation_step=1, logging_step=5)\n",
    "\n"
   ]
  },
  {
   "cell_type": "markdown",
   "id": "a5792894-0215-47a8-baee-01e3b02ebe39",
   "metadata": {},
   "source": [
    "Show results"
   ]
  },
  {
   "cell_type": "code",
   "execution_count": 22,
   "id": "604f0a8f-481e-442a-9f33-e01e8854593b",
   "metadata": {},
   "outputs": [
    {
     "name": "stdout",
     "output_type": "stream",
     "text": [
      "Test accuracy: 1.0\n"
     ]
    },
    {
     "data": {
      "image/png": "[encoded data removed]",
      "text/plain": [
       "<Figure size 720x432 with 4 Axes>"
      ]
     },
     "metadata": {
      "needs_background": "light"
     },
     "output_type": "display_data"
    }
   ],
   "source": [
    "import matplotlib.pyplot as plt\n",
    "\n",
    "fig1, ((ax_tl, ax_tr), (ax_bl, ax_br)) = plt.subplots(2, 2, sharey='row', figsize=(10, 6))\n",
    "\n",
    "ax_tl.set_title('Training set')\n",
    "ax_tr.set_title('Development set')\n",
    "ax_bl.set_xlabel('Epochs')\n",
    "ax_br.set_xlabel('Epochs')\n",
    "ax_bl.set_ylabel('Accuracy')\n",
    "ax_tl.set_ylabel('Loss')\n",
    "\n",
    "colours = iter(plt.rcParams['axes.prop_cycle'].by_key()['color'])\n",
    "ax_tl.plot(trainer.train_epoch_costs, color=next(colours))\n",
    "ax_bl.plot(trainer.train_results['acc'], color=next(colours))\n",
    "ax_tr.plot(trainer.val_costs, color=next(colours))\n",
    "ax_br.plot(trainer.val_results['acc'], color=next(colours))\n",
    "\n",
    "# print test accuracy\n",
    "test_acc = accuracy(model(test_circuits), torch.tensor(test_labels))\n",
    "print('Test accuracy:', test_acc.item())"
   ]
  },
  {
   "cell_type": "markdown",
   "id": "cbf33287-b106-47a3-9c25-4ff084a09062",
   "metadata": {},
   "source": [
    "Adding custom layers to the model"
   ]
  },
  {
   "cell_type": "code",
   "execution_count": 23,
   "id": "32f40cfc-f837-411f-9e9c-f42d6facfb18",
   "metadata": {},
   "outputs": [],
   "source": [
    "class MyCustomModel(PytorchModel):\n",
    "    def __init__(self):\n",
    "        super().__init__()\n",
    "        self.net = torch.nn.Linear(2, 2)\n",
    "\n",
    "    def forward(self, input):\n",
    "        \"\"\"define a custom forward pass here\"\"\"\n",
    "        preds = self.get_diagram_output(input)\n",
    "        preds = self.net(preds)\n",
    "        return preds"
   ]
  },
  {
   "cell_type": "code",
   "execution_count": 24,
   "id": "c9093521-e4e8-4495-be5c-6fa63e43e610",
   "metadata": {},
   "outputs": [
    {
     "name": "stderr",
     "output_type": "stream",
     "text": [
      "Epoch 1:   train/loss: 0.6992   valid/loss: 0.6856   train/acc: 0.4851   valid/acc: 0.5938\n",
      "Epoch 5:   train/loss: 0.1006   valid/loss: 0.0002   train/acc: 0.9802   valid/acc: 1.0000\n",
      "Epoch 10:  train/loss: 0.0000   valid/loss: 0.0000   train/acc: 1.0000   valid/acc: 1.0000\n",
      "Epoch 15:  train/loss: 0.0000   valid/loss: 0.0000   train/acc: 1.0000   valid/acc: 1.0000\n",
      "Epoch 20:  train/loss: 0.0000   valid/loss: 0.0000   train/acc: 1.0000   valid/acc: 1.0000\n",
      "Epoch 25:  train/loss: 0.0000   valid/loss: 0.0000   train/acc: 1.0000   valid/acc: 1.0000\n",
      "Epoch 30:  train/loss: 0.0000   valid/loss: 0.0000   train/acc: 1.0000   valid/acc: 1.0000\n",
      "\n",
      "Training completed!\n"
     ]
    }
   ],
   "source": [
    "custom_model = MyCustomModel.from_diagrams(all_circuits)\n",
    "custom_model_trainer = PytorchTrainer(\n",
    "        model=custom_model,\n",
    "        loss_function=torch.nn.BCEWithLogitsLoss(),\n",
    "        optimizer=torch.optim.AdamW,\n",
    "        learning_rate=LEARNING_RATE,\n",
    "        epochs=EPOCHS,\n",
    "        evaluate_functions=eval_metrics,\n",
    "        evaluate_on_train=True,\n",
    "        verbose='text',\n",
    "        seed=SEED)\n",
    "custom_model_trainer.fit(train_dataset, val_dataset, logging_step=5)"
   ]
  },
  {
   "cell_type": "code",
   "execution_count": 25,
   "id": "a681a244-262b-47ce-bb1d-3079e89702f4",
   "metadata": {},
   "outputs": [
    {
     "name": "stdout",
     "output_type": "stream",
     "text": [
      "Test accuracy: 1.0\n"
     ]
    },
    {
     "data": {
      "image/png": "[encoded data removed]",
      "text/plain": [
       "<Figure size 720x432 with 4 Axes>"
      ]
     },
     "metadata": {
      "needs_background": "light"
     },
     "output_type": "display_data"
    }
   ],
   "source": [
    "import matplotlib.pyplot as plt\n",
    "\n",
    "fig1, ((ax_tl, ax_tr), (ax_bl, ax_br)) = plt.subplots(2, 2, sharey='row', figsize=(10, 6))\n",
    "\n",
    "ax_tl.set_title('Training set')\n",
    "ax_tr.set_title('Development set')\n",
    "ax_bl.set_xlabel('Epochs')\n",
    "ax_br.set_xlabel('Epochs')\n",
    "ax_bl.set_ylabel('Accuracy')\n",
    "ax_tl.set_ylabel('Loss')\n",
    "\n",
    "colours = iter(plt.rcParams['axes.prop_cycle'].by_key()['color'])\n",
    "ax_tl.plot(custom_model_trainer.train_epoch_costs, color=next(colours))\n",
    "ax_bl.plot(custom_model_trainer.train_results['acc'], color=next(colours))\n",
    "ax_tr.plot(custom_model_trainer.val_costs, color=next(colours))\n",
    "ax_br.plot(custom_model_trainer.val_results['acc'], color=next(colours))\n",
    "\n",
    "# print test accuracy\n",
    "test_acc = accuracy(model(test_circuits), torch.tensor(test_labels))\n",
    "print('Test accuracy:', test_acc.item())"
   ]
  },
  {
   "cell_type": "markdown",
   "id": "46882d7f-2bfd-48c9-b8b9-12fd08f962b5",
   "metadata": {},
   "source": [
    "Training: Quantum case\n"
   ]
  },
  {
   "cell_type": "code",
   "execution_count": 26,
   "id": "a0a1ad8b-0d0c-4031-a45b-ad39ddefe171",
   "metadata": {},
   "outputs": [],
   "source": [
    "import os\n",
    "import warnings\n",
    "\n",
    "warnings.filterwarnings('ignore')\n",
    "os.environ['TOKENIZERS_PARALLELISM'] = 'true'\n",
    "\n"
   ]
  },
  {
   "cell_type": "code",
   "execution_count": 27,
   "id": "79533c08-5d8e-481b-8cbc-30767a64a7a5",
   "metadata": {},
   "outputs": [],
   "source": [
    "import numpy as np\n",
    "\n",
    "BATCH_SIZE = 8\n",
    "EPOCHS = 1000\n",
    "SEED = 2\n",
    "\n"
   ]
  },
  {
   "cell_type": "code",
   "execution_count": 28,
   "id": "45d96e84-a54b-42a0-ad9e-dd3efeeae3f8",
   "metadata": {},
   "outputs": [],
   "source": [
    "def read_data(filename):\n",
    "    labels, sentences = [], []\n",
    "    with open(filename) as f:\n",
    "        for line in f:\n",
    "            t = int(line[0])\n",
    "            labels.append([t, 1-t])\n",
    "            sentences.append(line[1:].strip())\n",
    "    return labels, sentences\n",
    "\n",
    "\n",
    "train_labels, train_data = read_data('nlpDataTrain.txt')\n",
    "test_labels, test_data = read_data('nlpDataTest.txt')\n"
   ]
  },
  {
   "cell_type": "code",
   "execution_count": 29,
   "id": "db354fd7-aef9-441d-9ef7-bd002e2d12cd",
   "metadata": {},
   "outputs": [
    {
     "data": {
      "text/plain": [
       "['cook creates complicated dish, experienced chef prepares complicated dish',\n",
       " 'skilful programmer creates code, devoted hacker writes code',\n",
       " 'skilful cook creates meal, devoted hacker creates complicated code',\n",
       " 'hacker writes code, skilful hacker creates code',\n",
       " 'devoted hacker writes code, hacker writes complicated code']"
      ]
     },
     "execution_count": 29,
     "metadata": {},
     "output_type": "execute_result"
    }
   ],
   "source": [
    "train_data[:5]\n"
   ]
  },
  {
   "cell_type": "code",
   "execution_count": 30,
   "id": "83fa5af7-04bb-4b03-8f63-8bc037d90dc3",
   "metadata": {},
   "outputs": [
    {
     "data": {
      "text/plain": [
       "['cook prepares meal, chef creates meal',\n",
       " 'devoted hacker writes complicated code, skilful chef creates dish',\n",
       " 'programmer creates complicated code, devoted hacker creates advanced code',\n",
       " 'chef creates complicated meal, skilful programmer creates advanced code',\n",
       " 'skilful programmer creates complicated code, chef creates meal']"
      ]
     },
     "execution_count": 30,
     "metadata": {},
     "output_type": "execute_result"
    }
   ],
   "source": [
    "test_data[:5]"
   ]
  },
  {
   "cell_type": "code",
   "execution_count": 31,
   "id": "5ede400d-f39d-4454-815d-302a4eb29aa1",
   "metadata": {},
   "outputs": [
    {
     "data": {
      "text/plain": [
       "[[1, 0], [1, 0], [0, 1], [1, 0], [1, 0]]"
      ]
     },
     "execution_count": 31,
     "metadata": {},
     "output_type": "execute_result"
    }
   ],
   "source": [
    "train_labels[:5]\n",
    "\n"
   ]
  },
  {
   "cell_type": "code",
   "execution_count": 32,
   "id": "4d2703f4-2303-4dcc-ba7c-a22390132796",
   "metadata": {},
   "outputs": [
    {
     "data": {
      "text/plain": [
       "[[1, 0], [0, 1], [1, 0], [0, 1], [0, 1]]"
      ]
     },
     "execution_count": 32,
     "metadata": {},
     "output_type": "execute_result"
    }
   ],
   "source": [
    "test_labels[:5]"
   ]
  },
  {
   "cell_type": "code",
   "execution_count": null,
   "id": "53cc6ada-3045-4a78-bb2e-437912233a9b",
   "metadata": {},
   "outputs": [],
   "source": [
    "from lambeq import BobcatParser\n",
    "\n",
    "parser = BobcatParser(root_cats=('NP', 'N'), verbose='text')\n",
    "\n",
    "raw_train_diagrams = parser.sentences2diagrams(train_data, suppress_exceptions=True)\n",
    "raw_val_diagrams = parser.sentences2diagrams(val_data, suppress_exceptions=True)\n",
    "\n"
   ]
  },
  {
   "cell_type": "markdown",
   "id": "f71cf5e9-2be5-49bc-a75c-68c7011a04ae",
   "metadata": {},
   "source": [
    "We simplify the diagrams by calling normal_form() and filter out any diagrams that could not be parsed."
   ]
  },
  {
   "cell_type": "code",
   "execution_count": null,
   "id": "7427420d-313e-41e5-821f-8185e92c0651",
   "metadata": {},
   "outputs": [],
   "source": [
    "train_diagrams = [\n",
    "    diagram.normal_form()\n",
    "    for diagram in raw_train_diagrams if diagram is not None\n",
    "]\n",
    "val_diagrams = [\n",
    "    diagram.normal_form()\n",
    "    for diagram in raw_val_diagrams if diagram is not None\n",
    "]\n",
    "\n",
    "train_labels = [\n",
    "    label for (diagram, label)\n",
    "    in zip(raw_train_diagrams, train_labels)\n",
    "    if diagram is not None]\n",
    "val_labels = [\n",
    "    label for (diagram, label)\n",
    "    in zip(raw_val_diagrams, val_labels)\n",
    "    if diagram is not None\n",
    "]"
   ]
  },
  {
   "cell_type": "code",
   "execution_count": null,
   "id": "5c7aaf03-bb2d-4950-8b71-87690368544e",
   "metadata": {},
   "outputs": [],
   "source": [
    "train_diagrams[0].draw(figsize=(9, 5), fontsize=12)"
   ]
  },
  {
   "cell_type": "code",
   "execution_count": null,
   "id": "6214ae10-da1f-42f7-a13d-e2336291594c",
   "metadata": {},
   "outputs": [],
   "source": [
    "train_diagrams[-1].draw(figsize=(9, 5), fontsize=12)\n",
    "\n"
   ]
  },
  {
   "cell_type": "markdown",
   "id": "30cdb203-6272-402f-8b91-57fe8b1f6cb2",
   "metadata": {},
   "source": [
    "create circuits"
   ]
  },
  {
   "cell_type": "code",
   "execution_count": null,
   "id": "7db505a2-275c-40d6-8efc-c8875c0f214e",
   "metadata": {},
   "outputs": [],
   "source": [
    "from lambeq import AtomicType, IQPAnsatz, remove_cups\n",
    "\n",
    "ansatz = IQPAnsatz({AtomicType.NOUN: 1, AtomicType.SENTENCE: 0},\n",
    "                   n_layers=1, n_single_qubit_params=3)\n",
    "\n",
    "train_circuits = [ansatz(remove_cups(diagram)) for diagram in train_diagrams]\n",
    "val_circuits =  [ansatz(remove_cups(diagram))  for diagram in val_diagrams]\n",
    "\n",
    "train_circuits[0].draw(figsize=(9, 10))"
   ]
  },
  {
   "cell_type": "code",
   "execution_count": null,
   "id": "2025fab2-8a5c-4058-b168-e64b07c2081b",
   "metadata": {},
   "outputs": [],
   "source": [
    "from discopy.drawing import equation\n",
    "\n",
    "original_diagram = train_diagrams[0]\n",
    "removed_cups_diagram = remove_cups(original_diagram)\n",
    "\n",
    "equation(original_diagram, removed_cups_diagram, symbol='-->', figsize=(9, 6), asymmetry=0.3, fontsize=12)"
   ]
  },
  {
   "cell_type": "markdown",
   "id": "3ba357d1-c53e-43fa-9865-844fb8770f02",
   "metadata": {},
   "source": [
    "Instantiate the model"
   ]
  },
  {
   "cell_type": "code",
   "execution_count": null,
   "id": "69ac0dfe-0352-4f1b-be7e-2b69294151e9",
   "metadata": {},
   "outputs": [],
   "source": [
    "from pytket.extensions.qiskit import AerBackend\n",
    "from lambeq import TketModel\n",
    "\n",
    "all_circuits = train_circuits + val_circuits\n",
    "\n",
    "backend = AerBackend()\n",
    "backend_config = {\n",
    "    'backend': backend,\n",
    "    'compilation': backend.default_compilation_pass(2),\n",
    "    'shots': 8192\n",
    "}\n",
    "\n",
    "model = TketModel.from_diagrams(all_circuits, backend_config=backend_config)"
   ]
  },
  {
   "cell_type": "markdown",
   "id": "95d6aab6-3a1c-412d-96de-1a7c981e813e",
   "metadata": {},
   "source": [
    "We use standard binary cross-entropy as the loss"
   ]
  },
  {
   "cell_type": "code",
   "execution_count": null,
   "id": "905e56d2-ee97-4c6c-b947-83d8b06b9847",
   "metadata": {},
   "outputs": [],
   "source": [
    "loss = lambda y_hat, y: -np.sum(y * np.log(y_hat)) / len(y)  # binary cross-entropy loss\n",
    "\n",
    "acc = lambda y_hat, y: np.sum(np.round(y_hat) == y) / len(y) / 2  # half due to double-counting\n",
    "eval_metrics = {\"acc\": acc}"
   ]
  },
  {
   "cell_type": "markdown",
   "id": "bcbc4e2d-653b-4116-b9b4-c5ef68f8af64",
   "metadata": {},
   "source": [
    "Intialisin the trainer\n",
    "\n",
    "\n",
    "    a: The initial learning rate (decays over time),\n",
    "\n",
    "    c: The initial parameter shift scaling factor (decays over time),\n",
    "\n",
    "    A: A stability constant, best choice is approx. 0.01 * number of training steps.\n"
   ]
  },
  {
   "cell_type": "code",
   "execution_count": null,
   "id": "c2e6d892-7e49-44ad-95bf-30fe82943d1f",
   "metadata": {},
   "outputs": [],
   "source": [
    "from lambeq import QuantumTrainer, SPSAOptimizer\n",
    "\n",
    "trainer = QuantumTrainer(\n",
    "    model,\n",
    "    loss_function=loss,\n",
    "    epochs=EPOCHS,\n",
    "    optimizer=SPSAOptimizer,\n",
    "    optim_hyperparams={'a': 0.05, 'c': 0.06, 'A':0.01*EPOCHS},\n",
    "    evaluate_functions=eval_metrics,\n",
    "    evaluate_on_train=True,\n",
    "    verbose = 'text',\n",
    "    seed=0\n",
    ")"
   ]
  },
  {
   "cell_type": "code",
   "execution_count": null,
   "id": "13a0604c-8f04-4023-991f-9e1c4f70388c",
   "metadata": {},
   "outputs": [],
   "source": [
    "from lambeq import Dataset\n",
    "\n",
    "train_dataset = Dataset(\n",
    "            train_circuits,\n",
    "            train_labels,\n",
    "            batch_size=BATCH_SIZE)\n",
    "\n",
    "val_dataset = Dataset(val_circuits, val_labels, shuffle=False)\n",
    "\n"
   ]
  },
  {
   "cell_type": "code",
   "execution_count": null,
   "id": "deaf8947-6d2b-4cc0-8957-b3ae52f884d9",
   "metadata": {},
   "outputs": [],
   "source": [
    "trainer.fit(train_dataset, val_dataset, evaluation_step=1, logging_step=100)\n",
    "\n"
   ]
  },
  {
   "cell_type": "code",
   "execution_count": null,
   "id": "17e90314-ff55-450f-bd53-c03dab84e101",
   "metadata": {},
   "outputs": [],
   "source": [
    "import matplotlib.pyplot as plt\n",
    "\n",
    "fig, ((ax_tl, ax_tr), (ax_bl, ax_br)) = plt.subplots(2, 2, sharex=True, sharey='row', figsize=(10, 6))\n",
    "ax_tl.set_title('Training set')\n",
    "ax_tr.set_title('Development set')\n",
    "ax_bl.set_xlabel('Iterations')\n",
    "ax_br.set_xlabel('Iterations')\n",
    "ax_bl.set_ylabel('Accuracy')\n",
    "ax_tl.set_ylabel('Loss')\n",
    "\n",
    "colours = iter(plt.rcParams['axes.prop_cycle'].by_key()['color'])\n",
    "ax_tl.plot(trainer.train_epoch_costs[::10], color=next(colours))\n",
    "ax_bl.plot(trainer.train_results['acc'][::10], color=next(colours))\n",
    "ax_tr.plot(trainer.val_costs[::10], color=next(colours))\n",
    "ax_br.plot(trainer.val_results['acc'][::10], color=next(colours))\n",
    "\n",
    "# print test accuracy\n",
    "test_acc = acc(model(val_circuits), val_labels)\n",
    "print('Validation accuracy:', test_acc.item())"
   ]
  },
  {
   "cell_type": "code",
   "execution_count": null,
   "id": "c21fe2d4-10d6-4ba2-82c4-3dfe44dce339",
   "metadata": {},
   "outputs": [],
   "source": []
  }
 ],
 "metadata": {
  "kernelspec": {
   "display_name": "Python 3 (ipykernel)",
   "language": "python",
   "name": "python3"
  },
  "language_info": {
   "codemirror_mode": {
    "name": "ipython",
    "version": 3
   },
   "file_extension": ".py",
   "mimetype": "text/x-python",
   "name": "python",
   "nbconvert_exporter": "python",
   "pygments_lexer": "ipython3",
   "version": "3.8.13"
  },
  "widgets": {
   "application/vnd.jupyter.widget-state+json": {
    "state": {
     "00997be54ce44c83b9018c524df1e54a": {
      "model_module": "@jupyter-widgets/controls",
      "model_module_version": "1.5.0",
      "model_name": "DescriptionStyleModel",
      "state": {
       "description_width": ""
      }
     },
     "0727811d2cb84dc9a8761c8f16bfbdf3": {
      "model_module": "@jupyter-widgets/controls",
      "model_module_version": "1.5.0",
      "model_name": "GridBoxModel",
      "state": {
       "children": [
        "IPY_MODEL_df9c72813c1c4e63ae9c2514f49e0839"
       ],
       "layout": "IPY_MODEL_7a361f72be4a4f9ea9944476915fa8b6"
      }
     },
     "14d3b0ee200a4d40bd5397d051552064": {
      "model_module": "@jupyter-widgets/base",
      "model_module_version": "1.2.0",
      "model_name": "LayoutModel",
      "state": {
       "width": "145px"
      }
     },
     "1eea60383a804f4694ed309ac38e1df2": {
      "model_module": "@jupyter-widgets/controls",
      "model_module_version": "1.5.0",
      "model_name": "DescriptionStyleModel",
      "state": {
       "description_width": ""
      }
     },
     "27881c6c5f854665a36b4c8b08a0f27d": {
      "model_module": "@jupyter-widgets/controls",
      "model_module_version": "1.5.0",
      "model_name": "HTMLModel",
      "state": {
       "layout": "IPY_MODEL_90ca11a7903e40c7ab66ff9ff75ccfc5",
       "style": "IPY_MODEL_d2dfb64493014e6f99c9e65646fb0d6c",
       "value": "<h5>Status</h5>"
      }
     },
     "2b120f07950b4d058547a45ea0f49154": {
      "model_module": "@jupyter-widgets/controls",
      "model_module_version": "1.5.0",
      "model_name": "HTMLModel",
      "state": {
       "layout": "IPY_MODEL_f542bd1ddb5643c48cc90dd2bd5d358c",
       "style": "IPY_MODEL_50fe67afa169442ebeb27fe5a47393b2",
       "value": "<h5>Queue</h5>"
      }
     },
     "3098adadb71a4ca284fc3c1e2be42f1c": {
      "model_module": "@jupyter-widgets/controls",
      "model_module_version": "1.5.0",
      "model_name": "DescriptionStyleModel",
      "state": {
       "description_width": ""
      }
     },
     "30d74f7cc05d4fc5943a4498ea69347c": {
      "model_module": "@jupyter-widgets/base",
      "model_module_version": "1.2.0",
      "model_name": "LayoutModel",
      "state": {
       "grid_area": "right",
       "padding": "0px 0px 0px 0px",
       "width": "70px"
      }
     },
     "4228cb0a3b674c269715e1457f3e4ab5": {
      "model_module": "@jupyter-widgets/controls",
      "model_module_version": "1.5.0",
      "model_name": "HTMLModel",
      "state": {
       "layout": "IPY_MODEL_14d3b0ee200a4d40bd5397d051552064",
       "style": "IPY_MODEL_00997be54ce44c83b9018c524df1e54a",
       "value": "<h5>Backend</h5>"
      }
     },
     "438f74e78a9b4359a4a6940566085c7d": {
      "model_module": "@jupyter-widgets/controls",
      "model_module_version": "1.5.0",
      "model_name": "DescriptionStyleModel",
      "state": {
       "description_width": ""
      }
     },
     "46a442c7daeb4100b8df8e9ced52c78c": {
      "model_module": "@jupyter-widgets/base",
      "model_module_version": "1.2.0",
      "model_name": "LayoutModel",
      "state": {
       "width": "190px"
      }
     },
     "50fe67afa169442ebeb27fe5a47393b2": {
      "model_module": "@jupyter-widgets/controls",
      "model_module_version": "1.5.0",
      "model_name": "DescriptionStyleModel",
      "state": {
       "description_width": ""
      }
     },
     "590f544bf7c04f099f7c95ce17d57279": {
      "model_module": "@jupyter-widgets/controls",
      "model_module_version": "1.5.0",
      "model_name": "HTMLModel",
      "state": {
       "layout": "IPY_MODEL_5f48fae9eb104e45ba61833aedf6acd3",
       "style": "IPY_MODEL_438f74e78a9b4359a4a6940566085c7d",
       "value": "<p style='font-family: IBM Plex Sans, Arial, Helvetica, sans-serif; font-size: 20px; font-weight: medium;'>Circuit Properties</p>"
      }
     },
     "5f48fae9eb104e45ba61833aedf6acd3": {
      "model_module": "@jupyter-widgets/base",
      "model_module_version": "1.2.0",
      "model_name": "LayoutModel",
      "state": {
       "margin": "0px 0px 10px 0px"
      }
     },
     "6c1d89ce7dcc496f9893a6fd454fd52b": {
      "model_module": "@jupyter-widgets/controls",
      "model_module_version": "1.5.0",
      "model_name": "HTMLModel",
      "state": {
       "layout": "IPY_MODEL_b47ee9f9ffce48958a1af006d350f329",
       "style": "IPY_MODEL_1eea60383a804f4694ed309ac38e1df2",
       "value": "<h5>Message</h5>"
      }
     },
     "7a361f72be4a4f9ea9944476915fa8b6": {
      "model_module": "@jupyter-widgets/base",
      "model_module_version": "1.2.0",
      "model_name": "LayoutModel",
      "state": {
       "grid_template_areas": "\n                                       \". . . . right \"\n                                        ",
       "grid_template_columns": "20% 20% 20% 20% 20%",
       "width": "100%"
      }
     },
     "90ca11a7903e40c7ab66ff9ff75ccfc5": {
      "model_module": "@jupyter-widgets/base",
      "model_module_version": "1.2.0",
      "model_name": "LayoutModel",
      "state": {
       "width": "95px"
      }
     },
     "b47ee9f9ffce48958a1af006d350f329": {
      "model_module": "@jupyter-widgets/base",
      "model_module_version": "1.2.0",
      "model_name": "LayoutModel",
      "state": {}
     },
     "d2dfb64493014e6f99c9e65646fb0d6c": {
      "model_module": "@jupyter-widgets/controls",
      "model_module_version": "1.5.0",
      "model_name": "DescriptionStyleModel",
      "state": {
       "description_width": ""
      }
     },
     "d61f6ec6a6334b068f5f669bb0c76766": {
      "model_module": "@jupyter-widgets/base",
      "model_module_version": "1.2.0",
      "model_name": "LayoutModel",
      "state": {
       "margin": "0px 0px 0px 37px",
       "width": "600px"
      }
     },
     "d9ccb7e336a84ad1927b617abfaffbed": {
      "model_module": "@jupyter-widgets/controls",
      "model_module_version": "1.5.0",
      "model_name": "ButtonStyleModel",
      "state": {}
     },
     "da3caf10118e452a9422e71766744e6a": {
      "model_module": "@jupyter-widgets/controls",
      "model_module_version": "1.5.0",
      "model_name": "HTMLModel",
      "state": {
       "layout": "IPY_MODEL_46a442c7daeb4100b8df8e9ced52c78c",
       "style": "IPY_MODEL_3098adadb71a4ca284fc3c1e2be42f1c",
       "value": "<h5>Job ID</h5>"
      }
     },
     "df9c72813c1c4e63ae9c2514f49e0839": {
      "model_module": "@jupyter-widgets/controls",
      "model_module_version": "1.5.0",
      "model_name": "ButtonModel",
      "state": {
       "button_style": "primary",
       "description": "Clear",
       "layout": "IPY_MODEL_30d74f7cc05d4fc5943a4498ea69347c",
       "style": "IPY_MODEL_d9ccb7e336a84ad1927b617abfaffbed"
      }
     },
     "e35cbb950d894d4b97f5ebe50cbcce1a": {
      "model_module": "@jupyter-widgets/controls",
      "model_module_version": "1.5.0",
      "model_name": "HBoxModel",
      "state": {
       "children": [
        "IPY_MODEL_da3caf10118e452a9422e71766744e6a",
        "IPY_MODEL_4228cb0a3b674c269715e1457f3e4ab5",
        "IPY_MODEL_27881c6c5f854665a36b4c8b08a0f27d",
        "IPY_MODEL_2b120f07950b4d058547a45ea0f49154",
        "IPY_MODEL_6c1d89ce7dcc496f9893a6fd454fd52b"
       ],
       "layout": "IPY_MODEL_d61f6ec6a6334b068f5f669bb0c76766"
      }
     },
     "f542bd1ddb5643c48cc90dd2bd5d358c": {
      "model_module": "@jupyter-widgets/base",
      "model_module_version": "1.2.0",
      "model_name": "LayoutModel",
      "state": {
       "width": "70px"
      }
     }
    },
    "version_major": 2,
    "version_minor": 0
   }
  }
 },
 "nbformat": 4,
 "nbformat_minor": 5
}
